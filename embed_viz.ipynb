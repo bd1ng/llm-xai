{
  "cells": [
    {
      "cell_type": "markdown",
      "metadata": {
        "id": "view-in-github",
        "colab_type": "text"
      },
      "source": [
        "<a href=\"https://colab.research.google.com/github/bd1ng/llm-xai/blob/main/embed_viz.ipynb\" target=\"_parent\"><img src=\"https://colab.research.google.com/assets/colab-badge.svg\" alt=\"Open In Colab\"/></a>"
      ]
    },
    {
      "cell_type": "markdown",
      "metadata": {
        "id": "uCBsLRmtxzzA"
      },
      "source": [
        "# AIPI 590 - XAI | Assignment #10\n",
        "### Explores large language model (LLM) explainability through dimension-reduction techniques tSNE, PCA, and UMAP. Includes an evaluation of the above approaches.\n",
        "\n",
        "### Bochu Ding\n",
        "\n",
        "[![Open In Collab](https://colab.research.google.com/assets/colab-badge.svg)](https://colab.research.google.com/github/bd1ng/llm-xai/blob/main/embed_viz.ipynb)\n",
        "\n",
        "### Adapted from XAI tutorial by Dr. Brinnae Bent, accessible here:\n",
        "\n",
        "[![Open In Collab](https://colab.research.google.com/assets/colab-badge.svg)](https://colab.research.google.com/github/AIPI-590-XAI/Duke-AI-XAI/blob/main/explainable-ml-example-notebooks/embedding-visualization.ipynb)"
      ]
    },
    {
      "cell_type": "markdown",
      "source": [
        "# 1. Set-up"
      ],
      "metadata": {
        "id": "9P99jSltyg4S"
      }
    },
    {
      "cell_type": "markdown",
      "source": [
        "## a. Import Packages and Data"
      ],
      "metadata": {
        "id": "XKfbiqt1ynIS"
      }
    },
    {
      "cell_type": "code",
      "source": [
        "!pip install \"numpy<2\" gensim==4.3.2 matplotlib==3.7.1 scikit-learn==1.2.2 umap-learn==0.5.6 plotly==5.15.0"
      ],
      "metadata": {
        "colab": {
          "base_uri": "https://localhost:8080/"
        },
        "id": "Ie3iEVFPyq-C",
        "outputId": "0c97f56b-4e72-469e-df87-cc692c05ca35"
      },
      "execution_count": 1,
      "outputs": [
        {
          "output_type": "stream",
          "name": "stdout",
          "text": [
            "Requirement already satisfied: numpy<2 in /usr/local/lib/python3.11/dist-packages (1.26.4)\n",
            "Requirement already satisfied: gensim==4.3.2 in /usr/local/lib/python3.11/dist-packages (4.3.2)\n",
            "Requirement already satisfied: matplotlib==3.7.1 in /usr/local/lib/python3.11/dist-packages (3.7.1)\n",
            "Requirement already satisfied: scikit-learn==1.2.2 in /usr/local/lib/python3.11/dist-packages (1.2.2)\n",
            "Requirement already satisfied: umap-learn==0.5.6 in /usr/local/lib/python3.11/dist-packages (0.5.6)\n",
            "Requirement already satisfied: plotly==5.15.0 in /usr/local/lib/python3.11/dist-packages (5.15.0)\n",
            "Requirement already satisfied: scipy>=1.7.0 in /usr/local/lib/python3.11/dist-packages (from gensim==4.3.2) (1.14.1)\n",
            "Requirement already satisfied: smart-open>=1.8.1 in /usr/local/lib/python3.11/dist-packages (from gensim==4.3.2) (7.1.0)\n",
            "Requirement already satisfied: contourpy>=1.0.1 in /usr/local/lib/python3.11/dist-packages (from matplotlib==3.7.1) (1.3.1)\n",
            "Requirement already satisfied: cycler>=0.10 in /usr/local/lib/python3.11/dist-packages (from matplotlib==3.7.1) (0.12.1)\n",
            "Requirement already satisfied: fonttools>=4.22.0 in /usr/local/lib/python3.11/dist-packages (from matplotlib==3.7.1) (4.56.0)\n",
            "Requirement already satisfied: kiwisolver>=1.0.1 in /usr/local/lib/python3.11/dist-packages (from matplotlib==3.7.1) (1.4.8)\n",
            "Requirement already satisfied: packaging>=20.0 in /usr/local/lib/python3.11/dist-packages (from matplotlib==3.7.1) (24.2)\n",
            "Requirement already satisfied: pillow>=6.2.0 in /usr/local/lib/python3.11/dist-packages (from matplotlib==3.7.1) (11.1.0)\n",
            "Requirement already satisfied: pyparsing>=2.3.1 in /usr/local/lib/python3.11/dist-packages (from matplotlib==3.7.1) (3.2.1)\n",
            "Requirement already satisfied: python-dateutil>=2.7 in /usr/local/lib/python3.11/dist-packages (from matplotlib==3.7.1) (2.8.2)\n",
            "Requirement already satisfied: joblib>=1.1.1 in /usr/local/lib/python3.11/dist-packages (from scikit-learn==1.2.2) (1.4.2)\n",
            "Requirement already satisfied: threadpoolctl>=2.0.0 in /usr/local/lib/python3.11/dist-packages (from scikit-learn==1.2.2) (3.6.0)\n",
            "Requirement already satisfied: numba>=0.51.2 in /usr/local/lib/python3.11/dist-packages (from umap-learn==0.5.6) (0.60.0)\n",
            "Requirement already satisfied: pynndescent>=0.5 in /usr/local/lib/python3.11/dist-packages (from umap-learn==0.5.6) (0.5.13)\n",
            "Requirement already satisfied: tqdm in /usr/local/lib/python3.11/dist-packages (from umap-learn==0.5.6) (4.67.1)\n",
            "Requirement already satisfied: tenacity>=6.2.0 in /usr/local/lib/python3.11/dist-packages (from plotly==5.15.0) (9.0.0)\n",
            "Requirement already satisfied: llvmlite<0.44,>=0.43.0dev0 in /usr/local/lib/python3.11/dist-packages (from numba>=0.51.2->umap-learn==0.5.6) (0.43.0)\n",
            "Requirement already satisfied: six>=1.5 in /usr/local/lib/python3.11/dist-packages (from python-dateutil>=2.7->matplotlib==3.7.1) (1.17.0)\n",
            "Requirement already satisfied: wrapt in /usr/local/lib/python3.11/dist-packages (from smart-open>=1.8.1->gensim==4.3.2) (1.17.2)\n"
          ]
        }
      ]
    },
    {
      "cell_type": "code",
      "source": [
        "# Basic\n",
        "import numpy as np\n",
        "import matplotlib.pyplot as plt\n",
        "import plotly.express as px\n",
        "from sentence_transformers import SentenceTransformer\n",
        "import pandas as pd\n",
        "\n",
        "# Dimensionality Reduction\n",
        "from sklearn.decomposition import PCA\n",
        "from sklearn.manifold import TSNE\n",
        "import umap\n",
        "\n",
        "# Random words; Generated by GPT4o on March 26 at 3.19p\n",
        "import random\n",
        "import nltk\n",
        "from nltk.corpus import brown\n",
        "from nltk.probability import FreqDist"
      ],
      "metadata": {
        "id": "2MO_tL4hzj6Y"
      },
      "execution_count": 34,
      "outputs": []
    },
    {
      "cell_type": "markdown",
      "source": [
        "## b. Model set-up"
      ],
      "metadata": {
        "id": "IF_Xc8dHzZvp"
      }
    },
    {
      "cell_type": "code",
      "source": [
        "# I picked potion-base-4M because it was the smallest one and all the other ones maxed out the RAM.\n",
        "\n",
        "model = SentenceTransformer('minishlab/potion-base-4M')\n"
      ],
      "metadata": {
        "id": "M1PH20xhyf0W"
      },
      "execution_count": 9,
      "outputs": []
    },
    {
      "cell_type": "code",
      "source": [
        "# Passing words through the model, as it doesn't have individual word embeddings stored the way GloVe does. Selecting common random words from NLTK. Workshopped with ChatGPT 4o on March 26 @3.18pm\n",
        "\n",
        "nltk.download('brown')\n",
        "nltk.download('punkt')\n",
        "\n",
        "brown_words = [w.lower() for w in brown.words() if w.isalpha()]\n",
        "fdist = FreqDist(brown_words)\n",
        "\n",
        "# Get most common 10,000 words\n",
        "common_words = [word for word, _ in fdist.most_common(10000)]\n",
        "\n",
        "# Filter words for length between 3 and 8 characters\n",
        "filtered_words = [w for w in common_words if 3 <= len(w) <= 8]\n",
        "\n",
        "# Randomly sample 500\n",
        "random_words = random.sample(filtered_words, 500)\n",
        "embeddings = model.encode(random_words)\n",
        "\n",
        "print(f\"Embeddings shape: {embeddings.shape}\")"
      ],
      "metadata": {
        "colab": {
          "base_uri": "https://localhost:8080/"
        },
        "id": "B-CyvPllkugn",
        "outputId": "121d72d6-e669-49de-8a97-a36c3c284ac5"
      },
      "execution_count": 35,
      "outputs": [
        {
          "output_type": "stream",
          "name": "stderr",
          "text": [
            "[nltk_data] Downloading package brown to /root/nltk_data...\n",
            "[nltk_data]   Unzipping corpora/brown.zip.\n",
            "[nltk_data] Downloading package punkt to /root/nltk_data...\n",
            "[nltk_data]   Unzipping tokenizers/punkt.zip.\n"
          ]
        },
        {
          "output_type": "stream",
          "name": "stdout",
          "text": [
            "Embeddings shape: (500, 128)\n"
          ]
        }
      ]
    },
    {
      "cell_type": "markdown",
      "source": [
        "# 2. Visualization"
      ],
      "metadata": {
        "id": "P7vqBuBif61o"
      }
    },
    {
      "cell_type": "markdown",
      "source": [
        "## a. PCA"
      ],
      "metadata": {
        "id": "Ic9Z-iPrf9VQ"
      }
    },
    {
      "cell_type": "code",
      "source": [
        "# Apply PCA\n",
        "pca = PCA(n_components=2)\n",
        "embeddings_pca = pca.fit_transform(embeddings)\n",
        "\n",
        "df = pd.DataFrame(embeddings_pca, columns=[\"PC1\", \"PC2\"])\n",
        "df[\"word\"] = random_words\n",
        "\n",
        "# Plot using Plotly; Edited by ChaptGpt4o on March 26 at 4:02\n",
        "fig = px.scatter(\n",
        "    df, x=\"PC1\", y=\"PC2\",\n",
        "    text=\"word\",\n",
        "    width=1600,\n",
        "    height=1600,\n",
        "    title=\"PCA of Potion Embeddings\",\n",
        "    labels={\"PC1\": \"Principal Component 1\", \"PC2\": \"Principal Component 2\"}\n",
        ")\n",
        "\n",
        "fig.update_traces(marker=dict(size=8))\n",
        "fig.show()"
      ],
      "metadata": {
        "colab": {
          "base_uri": "https://localhost:8080/",
          "height": 1000
        },
        "id": "s7b_4uV_gVYz",
        "outputId": "aefa2af0-96d6-47da-e751-8307dd8b49ed"
      },
      "execution_count": 36,
      "outputs": [
        {
          "output_type": "display_data",
          "data": {
            "text/html": [
              "<html>\n",
              "<head><meta charset=\"utf-8\" /></head>\n",
              "<body>\n",
              "    <div>            <script src=\"https://cdnjs.cloudflare.com/ajax/libs/mathjax/2.7.5/MathJax.js?config=TeX-AMS-MML_SVG\"></script><script type=\"text/javascript\">if (window.MathJax && window.MathJax.Hub && window.MathJax.Hub.Config) {window.MathJax.Hub.Config({SVG: {font: \"STIX-Web\"}});}</script>                <script type=\"text/javascript\">window.PlotlyConfig = {MathJaxConfig: 'local'};</script>\n",
              "        <script charset=\"utf-8\" src=\"https://cdn.plot.ly/plotly-2.24.1.min.js\"></script>                <div id=\"ec95f75a-0739-465a-9494-316f401d24fb\" class=\"plotly-graph-div\" style=\"height:1600px; width:1600px;\"></div>            <script type=\"text/javascript\">                                    window.PLOTLYENV=window.PLOTLYENV || {};                                    if (document.getElementById(\"ec95f75a-0739-465a-9494-316f401d24fb\")) {                    Plotly.newPlot(                        \"ec95f75a-0739-465a-9494-316f401d24fb\",                        [{\"hovertemplate\":\"Principal Component 1=%{x}\\u003cbr\\u003ePrincipal Component 2=%{y}\\u003cbr\\u003eword=%{text}\\u003cextra\\u003e\\u003c\\u002fextra\\u003e\",\"legendgroup\":\"\",\"marker\":{\"color\":\"#636efa\",\"symbol\":\"circle\",\"size\":8},\"mode\":\"markers+text\",\"name\":\"\",\"orientation\":\"v\",\"showlegend\":false,\"text\":[\"ramey\",\"atlanta\",\"waking\",\"baton\",\"within\",\"unbroken\",\"dealings\",\"flung\",\"carl\",\"wheel\",\"danish\",\"frantic\",\"bringing\",\"driving\",\"backward\",\"portland\",\"delphine\",\"lousy\",\"nine\",\"historic\",\"burning\",\"oddly\",\"angrily\",\"plain\",\"silent\",\"attained\",\"comic\",\"served\",\"ghost\",\"pity\",\"clean\",\"far\",\"loads\",\"congress\",\"termed\",\"wet\",\"december\",\"reporter\",\"decade\",\"closing\",\"nails\",\"work\",\"mess\",\"seal\",\"persian\",\"grasp\",\"inquirer\",\"stall\",\"dealt\",\"looks\",\"grand\",\"salem\",\"resemble\",\"variable\",\"duck\",\"spur\",\"society\",\"cruising\",\"pin\",\"genius\",\"eyes\",\"learns\",\"clothing\",\"residue\",\"initial\",\"last\",\"clearer\",\"shell\",\"signed\",\"eighty\",\"recover\",\"mike\",\"stream\",\"genuine\",\"released\",\"climb\",\"held\",\"aside\",\"regulus\",\"targets\",\"cow\",\"chill\",\"period\",\"humorous\",\"coward\",\"baseball\",\"smoothly\",\"informed\",\"doctors\",\"solving\",\"gore\",\"occupy\",\"bunch\",\"shaft\",\"polaris\",\"terrace\",\"effect\",\"grain\",\"bread\",\"servant\",\"incident\",\"suite\",\"upright\",\"bear\",\"happy\",\"housing\",\"screw\",\"into\",\"heaven\",\"setup\",\"greater\",\"pat\",\"bells\",\"raised\",\"divorced\",\"district\",\"bedroom\",\"force\",\"falls\",\"wright\",\"official\",\"equality\",\"excess\",\"phoenix\",\"check\",\"democrat\",\"cousins\",\"profound\",\"wondered\",\"champion\",\"array\",\"borrow\",\"saint\",\"retain\",\"mileage\",\"full\",\"well\",\"use\",\"closed\",\"rise\",\"rather\",\"missions\",\"hazards\",\"generous\",\"floating\",\"studied\",\"sweep\",\"reminder\",\"four\",\"fight\",\"scrutiny\",\"penny\",\"test\",\"managing\",\"crack\",\"gene\",\"heavenly\",\"iodide\",\"table\",\"podger\",\"rubber\",\"slums\",\"strains\",\"seas\",\"greek\",\"special\",\"alex\",\"tall\",\"ten\",\"chart\",\"excuse\",\"draft\",\"opera\",\"expanded\",\"cases\",\"flight\",\"bet\",\"ada\",\"stressed\",\"crying\",\"player\",\"artists\",\"jury\",\"absorb\",\"irony\",\"dialysis\",\"bacon\",\"max\",\"mounting\",\"council\",\"returns\",\"per\",\"mighty\",\"equally\",\"turned\",\"crusade\",\"niece\",\"harm\",\"promise\",\"sundays\",\"passages\",\"francis\",\"edged\",\"site\",\"launch\",\"meats\",\"marching\",\"kid\",\"halfback\",\"strive\",\"persons\",\"devoting\",\"ways\",\"bags\",\"cultural\",\"events\",\"engine\",\"sank\",\"conveyed\",\"cattle\",\"testing\",\"seldom\",\"street\",\"arise\",\"high\",\"vital\",\"defense\",\"stored\",\"korea\",\"line\",\"jane\",\"mitchell\",\"bath\",\"justify\",\"agrarian\",\"similar\",\"rock\",\"matson\",\"essex\",\"vince\",\"diet\",\"gran\",\"remark\",\"village\",\"drifted\",\"liquid\",\"misery\",\"compared\",\"mouth\",\"dressing\",\"leg\",\"hair\",\"grease\",\"resisted\",\"effluent\",\"argiento\",\"warren\",\"hudson\",\"life\",\"rifle\",\"veto\",\"tree\",\"insist\",\"smiles\",\"yellow\",\"stayed\",\"aged\",\"opposing\",\"poem\",\"exerted\",\"honest\",\"voltage\",\"assign\",\"disputes\",\"isolate\",\"arc\",\"promptly\",\"beneath\",\"boy\",\"barrel\",\"sign\",\"fogg\",\"hood\",\"heel\",\"sweat\",\"known\",\"chase\",\"seen\",\"hunting\",\"eromonga\",\"look\",\"original\",\"honors\",\"abbey\",\"spite\",\"relieve\",\"curious\",\"virus\",\"wealth\",\"taxing\",\"tangle\",\"incest\",\"cromwell\",\"younger\",\"sherry\",\"floor\",\"tribute\",\"turnpike\",\"carry\",\"success\",\"managed\",\"horrible\",\"upon\",\"carnegie\",\"mineral\",\"arrived\",\"ugly\",\"spring\",\"joan\",\"data\",\"fraction\",\"soldier\",\"mining\",\"miracles\",\"maintain\",\"pulled\",\"gibson\",\"continue\",\"nowadays\",\"brazil\",\"touching\",\"deadly\",\"producer\",\"monroe\",\"disliked\",\"ions\",\"timber\",\"tougher\",\"comedie\",\"ordinary\",\"dandy\",\"vinegar\",\"sprang\",\"scholars\",\"issuance\",\"french\",\"lips\",\"employed\",\"poetic\",\"acquire\",\"revenge\",\"role\",\"theatre\",\"others\",\"doors\",\"keith\",\"versions\",\"buzz\",\"operates\",\"bastard\",\"funny\",\"troubles\",\"shown\",\"sphere\",\"print\",\"tops\",\"sigh\",\"dates\",\"fourth\",\"deserved\",\"ferry\",\"theory\",\"rendered\",\"ideally\",\"paper\",\"north\",\"graduate\",\"gates\",\"heavier\",\"pink\",\"spun\",\"goddamn\",\"his\",\"largest\",\"kirov\",\"spindle\",\"texture\",\"anxiety\",\"besides\",\"hesitate\",\"restored\",\"chiefly\",\"marine\",\"designer\",\"arches\",\"keen\",\"scratch\",\"person\",\"weeks\",\"blessing\",\"cheeks\",\"ohio\",\"fbi\",\"nelson\",\"cavalry\",\"neurotic\",\"andrei\",\"buffer\",\"grant\",\"vacuum\",\"violin\",\"sturdy\",\"saviour\",\"credit\",\"exploit\",\"sighed\",\"facility\",\"knights\",\"facts\",\"stole\",\"comes\",\"wonders\",\"tommy\",\"newt\",\"blindly\",\"doorway\",\"hearing\",\"scared\",\"museum\",\"tanks\",\"resent\",\"bronze\",\"resigned\",\"required\",\"ghetto\",\"drunk\",\"water\",\"massive\",\"lime\",\"claims\",\"equals\",\"polish\",\"sunlight\",\"thinking\",\"wear\",\"rite\",\"shayne\",\"hardest\",\"egg\",\"courage\",\"design\",\"problems\",\"sewing\",\"begin\",\"reached\",\"speech\",\"seattle\",\"analyzed\",\"exactly\",\"include\",\"aid\",\"attacked\",\"stubborn\",\"proper\",\"induce\",\"nearly\",\"describe\",\"graves\",\"cottage\",\"living\",\"numerous\",\"member\",\"tory\",\"writings\",\"announce\",\"tastes\",\"cities\",\"privacy\",\"sons\",\"deduct\",\"focus\",\"harness\",\"issue\",\"cardinal\",\"stops\",\"dies\",\"sales\",\"examined\",\"critical\",\"messages\",\"slavery\",\"forces\",\"kansas\",\"pool\",\"external\",\"suited\",\"wagner\",\"drink\",\"urgent\",\"agony\"],\"x\":[-0.037826672,-0.10920384,0.2087197,-0.027014928,0.15279342,0.2827074,-0.15438226,0.2879173,-0.073757485,-0.14042677,-0.18642542,0.42412403,-0.1903508,-0.11912724,0.16751824,-0.116274945,-0.033496514,0.05135508,0.008210863,-0.24565344,0.104882404,0.3598286,0.40030065,0.011794243,0.2762338,0.09888948,0.10510748,0.09018721,0.10249002,0.42612317,0.12701905,-0.07127824,-0.10923171,-0.25746402,0.060590442,0.035315413,-0.09766546,0.0025018652,-0.121652596,-0.016192991,-0.19225875,-0.2031795,0.30331433,0.019455554,-0.18846175,0.056768835,0.06529723,0.016970294,0.20986076,-0.15122227,-0.053264502,-0.14121273,0.25631127,-0.18779093,-0.025861204,0.04437032,-0.2041871,-0.23132041,-0.014745835,0.22569807,-0.027069682,-0.032669306,-0.1578211,0.056126066,-0.0764138,0.08874842,0.15020059,-0.105808794,0.092416056,0.026782755,0.18084659,0.0064093545,0.014335649,0.21077162,0.12460993,0.0048684925,-0.011085446,0.5514064,-0.12999474,-0.12986478,-0.18336585,0.16336979,-0.25720206,0.15895726,0.3506207,-0.1984922,0.016717298,0.036176074,-0.21693645,-0.08509388,-0.15530944,0.100827344,0.024176653,-0.10576097,-0.17626429,-0.082496434,0.016064553,-0.20833988,-0.0747985,0.06383557,0.24180442,-0.1566899,0.21529734,-0.029633049,0.14138418,-0.24825849,0.10462532,0.2652289,-0.011499195,-0.24989705,0.071468845,0.06903907,-0.03464673,0.18342751,0.12757187,-0.29867423,-0.112287864,0.12780012,0.040555183,-0.039235946,-0.093162686,0.057151232,0.18977384,-0.11036524,0.15261516,-0.08384821,-0.0050943564,0.19609067,0.18260662,-0.07173426,-0.27572563,0.009264778,-0.13390164,-0.029160999,-0.12983622,0.1388809,0.12928449,-0.04014624,0.09760387,0.16326544,0.42522666,-0.2025135,-0.103969164,0.16959691,-0.10189135,-0.017771713,0.11597629,0.26271465,-0.08811726,0.19004904,0.12430503,-0.06951267,0.040230975,-0.2235261,0.20702182,-0.10337107,0.09358385,-0.084879555,-0.29786855,-0.0065807123,-0.020980822,-0.15931559,-0.035474166,-0.32299438,-0.24339935,-0.00795054,-0.05004731,0.04014269,0.027838048,-0.2196453,0.394937,-0.12219009,-0.1630011,-0.021432264,-0.20457742,-0.036900222,0.06588731,-0.1316537,0.22402015,0.37026095,-0.05671004,-0.1594992,-0.024289612,0.09104226,0.41169962,-0.095726445,-0.014813743,-0.09272747,-0.13306968,-0.26018673,-0.10263621,-0.19116032,0.33319002,0.373928,0.30054748,0.013208649,0.080040514,0.16800128,0.16740915,-0.018173167,-0.0037333327,-0.038449146,0.0861522,-0.2536997,-0.019623943,-0.18001056,-0.022304973,0.110933535,0.0899363,0.22606601,-0.11147911,0.049944084,0.026347606,-0.10324081,-0.23720147,-0.14231235,-0.1430056,0.06437577,0.14998576,-0.27858922,-0.02435133,0.32933578,-0.15248625,0.21129864,0.10800074,0.13348185,-0.1574499,-0.2713535,-0.24594846,-0.057832576,-0.11144091,-0.21099512,-0.14309463,0.31610614,-0.22778393,0.16560349,-0.06598164,-0.119150266,-0.1003732,-0.033264995,-0.20396663,-0.09961239,0.043466635,-0.21395223,0.06560174,-0.015093248,0.3823994,-0.021144811,0.005238211,-0.12412647,-0.0119700655,-0.14170283,-0.03185084,0.3768403,0.17173085,-0.17240779,-0.115330726,-0.20868786,0.025680581,-0.081535,0.043983325,-0.18523356,0.34607187,-0.06726639,-0.0019539008,0.17613557,0.01682314,0.1724042,0.25634396,0.27109453,0.23306675,-0.122675374,-0.14486356,-0.024997605,0.06850221,-0.19150254,0.2930705,0.23131481,0.10718971,-0.057676163,0.04418088,-0.06879056,-0.016909162,-0.07502141,0.011616965,0.060378447,0.017496068,0.101039454,-0.1520373,-0.09533188,-0.11618905,0.14766575,-0.0029799955,-0.13250218,0.43734592,0.15944001,0.0407327,-0.019415243,-0.11771622,-0.09223442,0.03899363,-0.18488209,-0.14651369,0.067721136,-0.13613935,-0.14715445,0.08275285,-0.15191874,-0.09359753,-0.025655104,-0.12711528,0.26083696,0.3847282,-0.1847955,-0.2920683,-0.0015195562,0.1598588,-0.16252428,-0.19465184,-0.4468844,-0.014030242,0.05911202,-0.2975349,0.07636822,-0.056404717,0.22669296,-0.07968584,0.16854602,0.08804662,-0.27021775,0.21266483,0.1284702,-0.16360621,-0.17025328,0.3198303,-0.19915299,-0.19732206,0.2006747,0.16737498,0.14504252,0.12282944,-0.122637324,0.114361376,-0.099508315,-0.1994036,-0.123696536,-0.045774627,-0.05414722,0.15587524,-0.05937307,0.32016268,-0.24077556,-0.20774463,0.13160044,-0.20667954,0.006911504,-0.29327884,0.12242979,-0.26781106,0.3058986,0.22318617,0.06026497,-0.19393851,-0.15070845,-0.09359286,-0.19267268,0.5055917,-0.20039456,-0.1113053,0.39596245,-0.20461856,0.0038290867,-0.028052524,0.27185574,-0.07947422,-0.22553357,-0.21108146,-0.18314672,0.14199239,-0.016144708,0.17675401,0.3501845,0.22301812,-0.14292704,-0.058963563,0.061371848,-0.18793246,0.02825348,-0.016989622,0.27637753,-0.018762829,0.34033263,-0.26445323,-0.22026055,-0.17438677,0.13552147,0.043713156,0.12265273,-0.046552885,0.17190787,-0.02548357,-0.1412621,-0.022996806,-0.11981304,-0.22780798,-0.15932304,0.049748927,-0.0694553,-0.08544374,-0.039140835,-0.17313,0.095672235,-0.045971878,-0.17802599,0.22759008,0.36317322,-0.3163679,-0.21191087,-0.19676243,0.2085013,0.09635046,0.0045870026,0.017507525,-0.05735647,0.45478,0.012421337,0.023217259,0.24288964,-0.2647991,-0.28756946,0.087409295,-0.07916515,0.12023443,-0.17028941,0.0050301845,0.26739854,-0.2642804,0.12452974,-0.10246641,-0.20485489,0.1526844,-0.15895121,-0.13522273,0.070068754,0.028343888,0.071987405,0.090074,0.22215031,-0.039798252,0.14630727,-0.23683366,-0.014569048,-0.05024772,0.14284787,0.12592992,-0.05113643,-0.1229364,-0.08092962,0.054402795,-0.17819558,-0.011235706,0.22805578,0.34938252,0.2557644,0.124740176,0.26112628,-0.023600502,-0.18479475,-0.16815285,-0.013582114,0.0065472084,-0.16408177,0.030399688,-0.046910387,-0.025339192,0.020012869,-0.4135633,-0.18393484,-0.06786469,-0.022390248,0.023920279,0.0030084152,-0.082565315,-0.053382054,0.124813244,0.026825288,-0.19853581,0.02960223,0.18581633,-0.005676353,-0.05983613,-0.016992094,-0.27588108,-0.23324962,-0.2410145,0.1259992,-0.22098614,0.06899228,0.224593,0.36538646],\"xaxis\":\"x\",\"y\":[0.09488599,0.047460698,-0.19258176,0.04347374,-0.33888876,-0.26183406,0.036345515,0.24157481,-0.023208767,0.09159652,0.011204448,0.24039148,-0.051786166,0.12562881,0.08746763,-0.061437134,0.24552396,0.0076330705,-0.09992943,-0.13751844,0.15564446,-0.010689558,0.5466516,-0.1681736,-0.048965495,-0.32777876,0.06987682,-0.11152222,-0.04882854,0.22784737,-0.18369278,-0.0052321125,0.08054625,0.039114196,-0.10015843,0.087733276,-0.03006516,0.06324561,-0.09337697,0.1153654,0.0879282,0.028949143,0.39494145,0.016758239,0.0012134055,0.13674292,-0.08344665,0.17202455,0.21000062,-0.04637904,-0.20881037,0.01710207,-0.26736733,0.06648073,0.006313123,0.08809241,-0.15148856,-0.034502454,-0.013443035,-0.16244186,0.014101907,0.014446425,-0.12492263,0.06724716,-0.16305928,0.16196847,-0.25131378,0.05338269,-0.27617562,-0.08001801,0.14139143,-0.006403179,0.078172885,-0.4288108,-0.058887746,0.10738967,0.06983023,-0.09136556,0.03395977,0.12592907,0.11844182,0.058294542,0.15355022,-0.008909418,0.18480957,0.023267968,-0.33303326,-0.07557547,0.025994249,-0.066837065,0.060028177,0.20509957,0.19254704,0.013035829,0.025572164,-0.065258905,0.2850197,0.11808982,-0.065938555,-0.22890444,0.3291547,-0.14212668,-0.3294419,0.17226592,-0.26907274,-0.043013826,0.057005487,-0.21350166,-0.2699046,-0.05996411,-0.27262676,-0.111683235,-0.06986604,-0.110284775,0.13523522,0.16405924,-0.12060726,0.13143751,0.09590914,0.00268984,-0.26601264,-0.2203401,0.07379603,0.004791395,-0.20951013,0.09634089,-0.13599628,-0.34379828,-0.15055785,-0.067259945,0.1362584,0.103663586,-0.13372605,0.0805985,0.02692753,-0.12458182,-0.3294919,0.11033854,0.21067917,-0.11888081,-0.19710456,-0.0055942764,0.40411326,-0.36991984,-0.029616205,-0.15897392,-0.037935305,-0.13075459,-0.009983078,0.3679646,-0.07910902,0.04096789,-0.008833499,0.07574832,0.19368245,0.085957676,-0.3377131,0.055964846,0.0034566927,0.089581795,0.11238126,0.038129322,0.17283714,0.05590303,-0.01870161,-0.29739904,0.047077786,-0.15660368,-0.09825196,0.11991326,0.13801083,0.05419526,-0.06441402,-0.23821695,0.12699775,0.018109651,0.032845158,0.053844243,0.25321513,0.31737682,-0.00080672815,-0.1291926,-0.05106447,-0.01952193,0.072477475,0.032657403,0.013302766,0.045149043,0.055934798,-0.013113389,0.08881097,0.069571085,-0.26889417,-0.3522902,0.15926298,0.07670577,-0.10203785,0.37294242,-0.18793428,-0.24175286,-0.22518514,-0.024630882,0.06690686,-0.06584208,-0.00048368095,-0.0063961367,0.056955427,0.00751029,0.141139,-0.17310736,-0.22770979,0.09624591,0.050775364,0.060875,-0.17817223,0.050528824,0.07651582,0.1668573,-0.11728356,0.13317166,0.021095404,-0.022685282,0.11412231,-0.22338232,-0.16252337,-0.3033784,0.24978709,0.027415771,0.049366985,0.048937384,-0.0133798495,0.036651578,-0.02908859,-0.07153376,0.08845864,-0.25352713,0.14711823,0.04776906,-0.003047047,0.057029366,0.033731297,0.028848806,-0.104730114,-0.093829505,0.13500893,0.17977944,0.44784218,-0.14093016,0.15036464,-0.08474243,0.02771927,0.027777359,0.15300553,0.14552967,0.088594235,0.07417248,-0.058677737,0.0052856077,-0.11964485,0.024371313,0.20101896,0.054760624,-0.0035940981,-0.12667587,-0.019930456,-0.10198749,-0.023326151,0.15960625,-0.072507106,0.15951088,-0.30149105,0.045013398,-0.02129829,0.21619219,0.14021891,0.20097393,-0.39126545,-0.13011734,-0.068142,0.12007357,-0.098335944,0.19936661,0.016774295,-0.07233785,0.1377391,-0.0912905,0.21593648,-0.1484306,0.11753493,0.07692352,-0.08418416,-0.29625878,-0.25175256,-0.07284178,0.2706709,0.10835209,-0.13407762,0.19919403,-0.08835863,0.14275658,0.1577668,0.060070064,0.07725692,-0.17085007,-0.027821831,-0.056337923,-0.28475162,0.11477295,-0.06073388,-0.27943608,-0.07106901,0.5175827,-0.2995788,-0.035683017,0.062788315,-0.23255783,0.30899704,0.006952196,-0.007188298,0.17042293,0.035022564,0.0049654604,0.20400278,-0.18133648,-0.13070537,0.3188955,-0.025970528,-0.00847617,-0.18833132,0.04293387,-0.14726348,0.12606,0.03549823,0.058533564,0.34815,0.09007023,0.011716996,0.18647024,-0.08076884,-0.32462642,0.038430057,0.15725659,0.16608329,-0.19889355,-0.08318227,0.017199803,0.021005902,-0.025160138,-0.14153379,-0.07297014,0.3087069,-0.09640061,-0.003754936,-0.2009862,-0.12381569,-0.027543876,0.0055810837,0.14923613,0.028956,0.14525738,0.12034999,0.46219397,-0.08318328,0.0089812605,0.04574691,-0.042685416,0.20397592,-0.031029655,-0.065191016,-0.15885961,-0.004301769,-0.028070135,0.0033775994,-0.4527258,0.06612201,-0.08974164,-0.0813624,-0.030801408,-0.07303917,-0.004819513,0.17164929,0.117224984,-0.04197179,-0.018395118,0.011750475,0.067358665,0.08671236,0.21566178,-0.21419533,-0.13241921,-0.15736522,-0.27060983,-0.021830767,-0.056046072,-0.022419138,-0.17971362,0.20088398,-0.22877982,-0.02819333,-0.28895378,0.08484869,-0.0040954617,0.09666376,0.01050923,0.04646976,0.0828134,0.003033865,0.22274792,0.014547812,0.018896287,-0.1464693,-0.17572795,-0.044851404,0.029864315,0.27860576,0.14248699,0.07880036,-0.013251843,0.09685117,0.1662104,-0.2464827,-0.18636708,-0.023105957,0.064156964,0.025857482,-0.13414569,-0.03912434,0.28056055,-0.10864584,0.1362371,-0.02872364,-0.073937975,0.1366115,-0.16214645,0.16682768,0.20028836,0.0859633,0.10413877,0.035282966,0.14578149,-0.22506666,-0.025758442,-0.1179274,-0.060068097,-0.13444991,-0.15541084,0.09144668,0.25446305,-0.017896496,-0.16332626,-0.0017958451,0.47649965,-0.0029223862,-0.14081968,-0.0072584637,-0.029560266,-0.09321415,0.08512123,-0.26135316,-0.23349917,0.06572219,0.3712731,0.1270498,-0.40227884,0.09602633,-0.0010121126,-0.09137813,-0.0068782116,-0.10742848,-0.3111552,-0.0043650786,-0.17271088,0.02371924,-0.115232006,-0.01218644,-0.1168529,0.00843812,-0.019095343,-0.115186095,0.17321935,0.03116663,0.02024119,0.22530404,-0.026870385,0.18367572,0.1319229,-0.07118128,-0.066717796,0.00785264,0.0074568973,0.003570393,0.13754317,0.031943366,0.045471005,-0.0444868,-0.21321763,0.06833138,0.110367484,0.15888393,0.41528141],\"yaxis\":\"y\",\"type\":\"scatter\"}],                        {\"template\":{\"data\":{\"histogram2dcontour\":[{\"type\":\"histogram2dcontour\",\"colorbar\":{\"outlinewidth\":0,\"ticks\":\"\"},\"colorscale\":[[0.0,\"#0d0887\"],[0.1111111111111111,\"#46039f\"],[0.2222222222222222,\"#7201a8\"],[0.3333333333333333,\"#9c179e\"],[0.4444444444444444,\"#bd3786\"],[0.5555555555555556,\"#d8576b\"],[0.6666666666666666,\"#ed7953\"],[0.7777777777777778,\"#fb9f3a\"],[0.8888888888888888,\"#fdca26\"],[1.0,\"#f0f921\"]]}],\"choropleth\":[{\"type\":\"choropleth\",\"colorbar\":{\"outlinewidth\":0,\"ticks\":\"\"}}],\"histogram2d\":[{\"type\":\"histogram2d\",\"colorbar\":{\"outlinewidth\":0,\"ticks\":\"\"},\"colorscale\":[[0.0,\"#0d0887\"],[0.1111111111111111,\"#46039f\"],[0.2222222222222222,\"#7201a8\"],[0.3333333333333333,\"#9c179e\"],[0.4444444444444444,\"#bd3786\"],[0.5555555555555556,\"#d8576b\"],[0.6666666666666666,\"#ed7953\"],[0.7777777777777778,\"#fb9f3a\"],[0.8888888888888888,\"#fdca26\"],[1.0,\"#f0f921\"]]}],\"heatmap\":[{\"type\":\"heatmap\",\"colorbar\":{\"outlinewidth\":0,\"ticks\":\"\"},\"colorscale\":[[0.0,\"#0d0887\"],[0.1111111111111111,\"#46039f\"],[0.2222222222222222,\"#7201a8\"],[0.3333333333333333,\"#9c179e\"],[0.4444444444444444,\"#bd3786\"],[0.5555555555555556,\"#d8576b\"],[0.6666666666666666,\"#ed7953\"],[0.7777777777777778,\"#fb9f3a\"],[0.8888888888888888,\"#fdca26\"],[1.0,\"#f0f921\"]]}],\"heatmapgl\":[{\"type\":\"heatmapgl\",\"colorbar\":{\"outlinewidth\":0,\"ticks\":\"\"},\"colorscale\":[[0.0,\"#0d0887\"],[0.1111111111111111,\"#46039f\"],[0.2222222222222222,\"#7201a8\"],[0.3333333333333333,\"#9c179e\"],[0.4444444444444444,\"#bd3786\"],[0.5555555555555556,\"#d8576b\"],[0.6666666666666666,\"#ed7953\"],[0.7777777777777778,\"#fb9f3a\"],[0.8888888888888888,\"#fdca26\"],[1.0,\"#f0f921\"]]}],\"contourcarpet\":[{\"type\":\"contourcarpet\",\"colorbar\":{\"outlinewidth\":0,\"ticks\":\"\"}}],\"contour\":[{\"type\":\"contour\",\"colorbar\":{\"outlinewidth\":0,\"ticks\":\"\"},\"colorscale\":[[0.0,\"#0d0887\"],[0.1111111111111111,\"#46039f\"],[0.2222222222222222,\"#7201a8\"],[0.3333333333333333,\"#9c179e\"],[0.4444444444444444,\"#bd3786\"],[0.5555555555555556,\"#d8576b\"],[0.6666666666666666,\"#ed7953\"],[0.7777777777777778,\"#fb9f3a\"],[0.8888888888888888,\"#fdca26\"],[1.0,\"#f0f921\"]]}],\"surface\":[{\"type\":\"surface\",\"colorbar\":{\"outlinewidth\":0,\"ticks\":\"\"},\"colorscale\":[[0.0,\"#0d0887\"],[0.1111111111111111,\"#46039f\"],[0.2222222222222222,\"#7201a8\"],[0.3333333333333333,\"#9c179e\"],[0.4444444444444444,\"#bd3786\"],[0.5555555555555556,\"#d8576b\"],[0.6666666666666666,\"#ed7953\"],[0.7777777777777778,\"#fb9f3a\"],[0.8888888888888888,\"#fdca26\"],[1.0,\"#f0f921\"]]}],\"mesh3d\":[{\"type\":\"mesh3d\",\"colorbar\":{\"outlinewidth\":0,\"ticks\":\"\"}}],\"scatter\":[{\"fillpattern\":{\"fillmode\":\"overlay\",\"size\":10,\"solidity\":0.2},\"type\":\"scatter\"}],\"parcoords\":[{\"type\":\"parcoords\",\"line\":{\"colorbar\":{\"outlinewidth\":0,\"ticks\":\"\"}}}],\"scatterpolargl\":[{\"type\":\"scatterpolargl\",\"marker\":{\"colorbar\":{\"outlinewidth\":0,\"ticks\":\"\"}}}],\"bar\":[{\"error_x\":{\"color\":\"#2a3f5f\"},\"error_y\":{\"color\":\"#2a3f5f\"},\"marker\":{\"line\":{\"color\":\"#E5ECF6\",\"width\":0.5},\"pattern\":{\"fillmode\":\"overlay\",\"size\":10,\"solidity\":0.2}},\"type\":\"bar\"}],\"scattergeo\":[{\"type\":\"scattergeo\",\"marker\":{\"colorbar\":{\"outlinewidth\":0,\"ticks\":\"\"}}}],\"scatterpolar\":[{\"type\":\"scatterpolar\",\"marker\":{\"colorbar\":{\"outlinewidth\":0,\"ticks\":\"\"}}}],\"histogram\":[{\"marker\":{\"pattern\":{\"fillmode\":\"overlay\",\"size\":10,\"solidity\":0.2}},\"type\":\"histogram\"}],\"scattergl\":[{\"type\":\"scattergl\",\"marker\":{\"colorbar\":{\"outlinewidth\":0,\"ticks\":\"\"}}}],\"scatter3d\":[{\"type\":\"scatter3d\",\"line\":{\"colorbar\":{\"outlinewidth\":0,\"ticks\":\"\"}},\"marker\":{\"colorbar\":{\"outlinewidth\":0,\"ticks\":\"\"}}}],\"scattermapbox\":[{\"type\":\"scattermapbox\",\"marker\":{\"colorbar\":{\"outlinewidth\":0,\"ticks\":\"\"}}}],\"scatterternary\":[{\"type\":\"scatterternary\",\"marker\":{\"colorbar\":{\"outlinewidth\":0,\"ticks\":\"\"}}}],\"scattercarpet\":[{\"type\":\"scattercarpet\",\"marker\":{\"colorbar\":{\"outlinewidth\":0,\"ticks\":\"\"}}}],\"carpet\":[{\"aaxis\":{\"endlinecolor\":\"#2a3f5f\",\"gridcolor\":\"white\",\"linecolor\":\"white\",\"minorgridcolor\":\"white\",\"startlinecolor\":\"#2a3f5f\"},\"baxis\":{\"endlinecolor\":\"#2a3f5f\",\"gridcolor\":\"white\",\"linecolor\":\"white\",\"minorgridcolor\":\"white\",\"startlinecolor\":\"#2a3f5f\"},\"type\":\"carpet\"}],\"table\":[{\"cells\":{\"fill\":{\"color\":\"#EBF0F8\"},\"line\":{\"color\":\"white\"}},\"header\":{\"fill\":{\"color\":\"#C8D4E3\"},\"line\":{\"color\":\"white\"}},\"type\":\"table\"}],\"barpolar\":[{\"marker\":{\"line\":{\"color\":\"#E5ECF6\",\"width\":0.5},\"pattern\":{\"fillmode\":\"overlay\",\"size\":10,\"solidity\":0.2}},\"type\":\"barpolar\"}],\"pie\":[{\"automargin\":true,\"type\":\"pie\"}]},\"layout\":{\"autotypenumbers\":\"strict\",\"colorway\":[\"#636efa\",\"#EF553B\",\"#00cc96\",\"#ab63fa\",\"#FFA15A\",\"#19d3f3\",\"#FF6692\",\"#B6E880\",\"#FF97FF\",\"#FECB52\"],\"font\":{\"color\":\"#2a3f5f\"},\"hovermode\":\"closest\",\"hoverlabel\":{\"align\":\"left\"},\"paper_bgcolor\":\"white\",\"plot_bgcolor\":\"#E5ECF6\",\"polar\":{\"bgcolor\":\"#E5ECF6\",\"angularaxis\":{\"gridcolor\":\"white\",\"linecolor\":\"white\",\"ticks\":\"\"},\"radialaxis\":{\"gridcolor\":\"white\",\"linecolor\":\"white\",\"ticks\":\"\"}},\"ternary\":{\"bgcolor\":\"#E5ECF6\",\"aaxis\":{\"gridcolor\":\"white\",\"linecolor\":\"white\",\"ticks\":\"\"},\"baxis\":{\"gridcolor\":\"white\",\"linecolor\":\"white\",\"ticks\":\"\"},\"caxis\":{\"gridcolor\":\"white\",\"linecolor\":\"white\",\"ticks\":\"\"}},\"coloraxis\":{\"colorbar\":{\"outlinewidth\":0,\"ticks\":\"\"}},\"colorscale\":{\"sequential\":[[0.0,\"#0d0887\"],[0.1111111111111111,\"#46039f\"],[0.2222222222222222,\"#7201a8\"],[0.3333333333333333,\"#9c179e\"],[0.4444444444444444,\"#bd3786\"],[0.5555555555555556,\"#d8576b\"],[0.6666666666666666,\"#ed7953\"],[0.7777777777777778,\"#fb9f3a\"],[0.8888888888888888,\"#fdca26\"],[1.0,\"#f0f921\"]],\"sequentialminus\":[[0.0,\"#0d0887\"],[0.1111111111111111,\"#46039f\"],[0.2222222222222222,\"#7201a8\"],[0.3333333333333333,\"#9c179e\"],[0.4444444444444444,\"#bd3786\"],[0.5555555555555556,\"#d8576b\"],[0.6666666666666666,\"#ed7953\"],[0.7777777777777778,\"#fb9f3a\"],[0.8888888888888888,\"#fdca26\"],[1.0,\"#f0f921\"]],\"diverging\":[[0,\"#8e0152\"],[0.1,\"#c51b7d\"],[0.2,\"#de77ae\"],[0.3,\"#f1b6da\"],[0.4,\"#fde0ef\"],[0.5,\"#f7f7f7\"],[0.6,\"#e6f5d0\"],[0.7,\"#b8e186\"],[0.8,\"#7fbc41\"],[0.9,\"#4d9221\"],[1,\"#276419\"]]},\"xaxis\":{\"gridcolor\":\"white\",\"linecolor\":\"white\",\"ticks\":\"\",\"title\":{\"standoff\":15},\"zerolinecolor\":\"white\",\"automargin\":true,\"zerolinewidth\":2},\"yaxis\":{\"gridcolor\":\"white\",\"linecolor\":\"white\",\"ticks\":\"\",\"title\":{\"standoff\":15},\"zerolinecolor\":\"white\",\"automargin\":true,\"zerolinewidth\":2},\"scene\":{\"xaxis\":{\"backgroundcolor\":\"#E5ECF6\",\"gridcolor\":\"white\",\"linecolor\":\"white\",\"showbackground\":true,\"ticks\":\"\",\"zerolinecolor\":\"white\",\"gridwidth\":2},\"yaxis\":{\"backgroundcolor\":\"#E5ECF6\",\"gridcolor\":\"white\",\"linecolor\":\"white\",\"showbackground\":true,\"ticks\":\"\",\"zerolinecolor\":\"white\",\"gridwidth\":2},\"zaxis\":{\"backgroundcolor\":\"#E5ECF6\",\"gridcolor\":\"white\",\"linecolor\":\"white\",\"showbackground\":true,\"ticks\":\"\",\"zerolinecolor\":\"white\",\"gridwidth\":2}},\"shapedefaults\":{\"line\":{\"color\":\"#2a3f5f\"}},\"annotationdefaults\":{\"arrowcolor\":\"#2a3f5f\",\"arrowhead\":0,\"arrowwidth\":1},\"geo\":{\"bgcolor\":\"white\",\"landcolor\":\"#E5ECF6\",\"subunitcolor\":\"white\",\"showland\":true,\"showlakes\":true,\"lakecolor\":\"white\"},\"title\":{\"x\":0.05},\"mapbox\":{\"style\":\"light\"}}},\"xaxis\":{\"anchor\":\"y\",\"domain\":[0.0,1.0],\"title\":{\"text\":\"Principal Component 1\"}},\"yaxis\":{\"anchor\":\"x\",\"domain\":[0.0,1.0],\"title\":{\"text\":\"Principal Component 2\"}},\"legend\":{\"tracegroupgap\":0},\"title\":{\"text\":\"PCA of Potion Embeddings\"},\"height\":1600,\"width\":1600},                        {\"responsive\": true}                    ).then(function(){\n",
              "                            \n",
              "var gd = document.getElementById('ec95f75a-0739-465a-9494-316f401d24fb');\n",
              "var x = new MutationObserver(function (mutations, observer) {{\n",
              "        var display = window.getComputedStyle(gd).display;\n",
              "        if (!display || display === 'none') {{\n",
              "            console.log([gd, 'removed!']);\n",
              "            Plotly.purge(gd);\n",
              "            observer.disconnect();\n",
              "        }}\n",
              "}});\n",
              "\n",
              "// Listen for the removal of the full notebook cells\n",
              "var notebookContainer = gd.closest('#notebook-container');\n",
              "if (notebookContainer) {{\n",
              "    x.observe(notebookContainer, {childList: true});\n",
              "}}\n",
              "\n",
              "// Listen for the clearing of the current output cell\n",
              "var outputEl = gd.closest('.output');\n",
              "if (outputEl) {{\n",
              "    x.observe(outputEl, {childList: true});\n",
              "}}\n",
              "\n",
              "                        })                };                            </script>        </div>\n",
              "</body>\n",
              "</html>"
            ]
          },
          "metadata": {}
        }
      ]
    },
    {
      "cell_type": "markdown",
      "source": [
        "## b. t-distributed Stochastic Neighbor Embedding (t-SNE)"
      ],
      "metadata": {
        "id": "AaNsJsMsf_2b"
      }
    },
    {
      "cell_type": "code",
      "source": [
        "# Apply t-SNE\n",
        "tsne = TSNE(n_components=2, perplexity=30, n_iter=300, random_state=42)\n",
        "embeddings_tsne = tsne.fit_transform(embeddings)\n",
        "\n",
        "df_tsne = pd.DataFrame(embeddings_tsne, columns=[\"PC1\", \"PC2\"])\n",
        "df_tsne[\"word\"] = random_words\n",
        "\n",
        "# Plot t-SNE results using Plotly\n",
        "fig_tsne = px.scatter(\n",
        "    df_tsne, x=\"PC1\", y=\"PC2\",\n",
        "    width=1600,\n",
        "    height=1600,\n",
        "    text=\"word\",\n",
        "    title=\"t-SNE of Potion Embeddings\",\n",
        "    labels={'0': 'Component 1', '1': 'Component 2'}\n",
        ")\n",
        "fig_tsne.update_traces(marker=dict(size=8))\n",
        "fig_tsne.show()"
      ],
      "metadata": {
        "colab": {
          "base_uri": "https://localhost:8080/",
          "height": 1000
        },
        "id": "E9Ged-GdgW3m",
        "outputId": "68d0257f-84d2-4dd4-ed03-8e769688b3eb"
      },
      "execution_count": 37,
      "outputs": [
        {
          "output_type": "display_data",
          "data": {
            "text/html": [
              "<html>\n",
              "<head><meta charset=\"utf-8\" /></head>\n",
              "<body>\n",
              "    <div>            <script src=\"https://cdnjs.cloudflare.com/ajax/libs/mathjax/2.7.5/MathJax.js?config=TeX-AMS-MML_SVG\"></script><script type=\"text/javascript\">if (window.MathJax && window.MathJax.Hub && window.MathJax.Hub.Config) {window.MathJax.Hub.Config({SVG: {font: \"STIX-Web\"}});}</script>                <script type=\"text/javascript\">window.PlotlyConfig = {MathJaxConfig: 'local'};</script>\n",
              "        <script charset=\"utf-8\" src=\"https://cdn.plot.ly/plotly-2.24.1.min.js\"></script>                <div id=\"1a4d1a5e-ee73-4809-b82a-a3da72554869\" class=\"plotly-graph-div\" style=\"height:1600px; width:1600px;\"></div>            <script type=\"text/javascript\">                                    window.PLOTLYENV=window.PLOTLYENV || {};                                    if (document.getElementById(\"1a4d1a5e-ee73-4809-b82a-a3da72554869\")) {                    Plotly.newPlot(                        \"1a4d1a5e-ee73-4809-b82a-a3da72554869\",                        [{\"hovertemplate\":\"PC1=%{x}\\u003cbr\\u003ePC2=%{y}\\u003cbr\\u003eword=%{text}\\u003cextra\\u003e\\u003c\\u002fextra\\u003e\",\"legendgroup\":\"\",\"marker\":{\"color\":\"#636efa\",\"symbol\":\"circle\",\"size\":8},\"mode\":\"markers+text\",\"name\":\"\",\"orientation\":\"v\",\"showlegend\":false,\"text\":[\"ramey\",\"atlanta\",\"waking\",\"baton\",\"within\",\"unbroken\",\"dealings\",\"flung\",\"carl\",\"wheel\",\"danish\",\"frantic\",\"bringing\",\"driving\",\"backward\",\"portland\",\"delphine\",\"lousy\",\"nine\",\"historic\",\"burning\",\"oddly\",\"angrily\",\"plain\",\"silent\",\"attained\",\"comic\",\"served\",\"ghost\",\"pity\",\"clean\",\"far\",\"loads\",\"congress\",\"termed\",\"wet\",\"december\",\"reporter\",\"decade\",\"closing\",\"nails\",\"work\",\"mess\",\"seal\",\"persian\",\"grasp\",\"inquirer\",\"stall\",\"dealt\",\"looks\",\"grand\",\"salem\",\"resemble\",\"variable\",\"duck\",\"spur\",\"society\",\"cruising\",\"pin\",\"genius\",\"eyes\",\"learns\",\"clothing\",\"residue\",\"initial\",\"last\",\"clearer\",\"shell\",\"signed\",\"eighty\",\"recover\",\"mike\",\"stream\",\"genuine\",\"released\",\"climb\",\"held\",\"aside\",\"regulus\",\"targets\",\"cow\",\"chill\",\"period\",\"humorous\",\"coward\",\"baseball\",\"smoothly\",\"informed\",\"doctors\",\"solving\",\"gore\",\"occupy\",\"bunch\",\"shaft\",\"polaris\",\"terrace\",\"effect\",\"grain\",\"bread\",\"servant\",\"incident\",\"suite\",\"upright\",\"bear\",\"happy\",\"housing\",\"screw\",\"into\",\"heaven\",\"setup\",\"greater\",\"pat\",\"bells\",\"raised\",\"divorced\",\"district\",\"bedroom\",\"force\",\"falls\",\"wright\",\"official\",\"equality\",\"excess\",\"phoenix\",\"check\",\"democrat\",\"cousins\",\"profound\",\"wondered\",\"champion\",\"array\",\"borrow\",\"saint\",\"retain\",\"mileage\",\"full\",\"well\",\"use\",\"closed\",\"rise\",\"rather\",\"missions\",\"hazards\",\"generous\",\"floating\",\"studied\",\"sweep\",\"reminder\",\"four\",\"fight\",\"scrutiny\",\"penny\",\"test\",\"managing\",\"crack\",\"gene\",\"heavenly\",\"iodide\",\"table\",\"podger\",\"rubber\",\"slums\",\"strains\",\"seas\",\"greek\",\"special\",\"alex\",\"tall\",\"ten\",\"chart\",\"excuse\",\"draft\",\"opera\",\"expanded\",\"cases\",\"flight\",\"bet\",\"ada\",\"stressed\",\"crying\",\"player\",\"artists\",\"jury\",\"absorb\",\"irony\",\"dialysis\",\"bacon\",\"max\",\"mounting\",\"council\",\"returns\",\"per\",\"mighty\",\"equally\",\"turned\",\"crusade\",\"niece\",\"harm\",\"promise\",\"sundays\",\"passages\",\"francis\",\"edged\",\"site\",\"launch\",\"meats\",\"marching\",\"kid\",\"halfback\",\"strive\",\"persons\",\"devoting\",\"ways\",\"bags\",\"cultural\",\"events\",\"engine\",\"sank\",\"conveyed\",\"cattle\",\"testing\",\"seldom\",\"street\",\"arise\",\"high\",\"vital\",\"defense\",\"stored\",\"korea\",\"line\",\"jane\",\"mitchell\",\"bath\",\"justify\",\"agrarian\",\"similar\",\"rock\",\"matson\",\"essex\",\"vince\",\"diet\",\"gran\",\"remark\",\"village\",\"drifted\",\"liquid\",\"misery\",\"compared\",\"mouth\",\"dressing\",\"leg\",\"hair\",\"grease\",\"resisted\",\"effluent\",\"argiento\",\"warren\",\"hudson\",\"life\",\"rifle\",\"veto\",\"tree\",\"insist\",\"smiles\",\"yellow\",\"stayed\",\"aged\",\"opposing\",\"poem\",\"exerted\",\"honest\",\"voltage\",\"assign\",\"disputes\",\"isolate\",\"arc\",\"promptly\",\"beneath\",\"boy\",\"barrel\",\"sign\",\"fogg\",\"hood\",\"heel\",\"sweat\",\"known\",\"chase\",\"seen\",\"hunting\",\"eromonga\",\"look\",\"original\",\"honors\",\"abbey\",\"spite\",\"relieve\",\"curious\",\"virus\",\"wealth\",\"taxing\",\"tangle\",\"incest\",\"cromwell\",\"younger\",\"sherry\",\"floor\",\"tribute\",\"turnpike\",\"carry\",\"success\",\"managed\",\"horrible\",\"upon\",\"carnegie\",\"mineral\",\"arrived\",\"ugly\",\"spring\",\"joan\",\"data\",\"fraction\",\"soldier\",\"mining\",\"miracles\",\"maintain\",\"pulled\",\"gibson\",\"continue\",\"nowadays\",\"brazil\",\"touching\",\"deadly\",\"producer\",\"monroe\",\"disliked\",\"ions\",\"timber\",\"tougher\",\"comedie\",\"ordinary\",\"dandy\",\"vinegar\",\"sprang\",\"scholars\",\"issuance\",\"french\",\"lips\",\"employed\",\"poetic\",\"acquire\",\"revenge\",\"role\",\"theatre\",\"others\",\"doors\",\"keith\",\"versions\",\"buzz\",\"operates\",\"bastard\",\"funny\",\"troubles\",\"shown\",\"sphere\",\"print\",\"tops\",\"sigh\",\"dates\",\"fourth\",\"deserved\",\"ferry\",\"theory\",\"rendered\",\"ideally\",\"paper\",\"north\",\"graduate\",\"gates\",\"heavier\",\"pink\",\"spun\",\"goddamn\",\"his\",\"largest\",\"kirov\",\"spindle\",\"texture\",\"anxiety\",\"besides\",\"hesitate\",\"restored\",\"chiefly\",\"marine\",\"designer\",\"arches\",\"keen\",\"scratch\",\"person\",\"weeks\",\"blessing\",\"cheeks\",\"ohio\",\"fbi\",\"nelson\",\"cavalry\",\"neurotic\",\"andrei\",\"buffer\",\"grant\",\"vacuum\",\"violin\",\"sturdy\",\"saviour\",\"credit\",\"exploit\",\"sighed\",\"facility\",\"knights\",\"facts\",\"stole\",\"comes\",\"wonders\",\"tommy\",\"newt\",\"blindly\",\"doorway\",\"hearing\",\"scared\",\"museum\",\"tanks\",\"resent\",\"bronze\",\"resigned\",\"required\",\"ghetto\",\"drunk\",\"water\",\"massive\",\"lime\",\"claims\",\"equals\",\"polish\",\"sunlight\",\"thinking\",\"wear\",\"rite\",\"shayne\",\"hardest\",\"egg\",\"courage\",\"design\",\"problems\",\"sewing\",\"begin\",\"reached\",\"speech\",\"seattle\",\"analyzed\",\"exactly\",\"include\",\"aid\",\"attacked\",\"stubborn\",\"proper\",\"induce\",\"nearly\",\"describe\",\"graves\",\"cottage\",\"living\",\"numerous\",\"member\",\"tory\",\"writings\",\"announce\",\"tastes\",\"cities\",\"privacy\",\"sons\",\"deduct\",\"focus\",\"harness\",\"issue\",\"cardinal\",\"stops\",\"dies\",\"sales\",\"examined\",\"critical\",\"messages\",\"slavery\",\"forces\",\"kansas\",\"pool\",\"external\",\"suited\",\"wagner\",\"drink\",\"urgent\",\"agony\"],\"x\":[-11.36568,0.49781415,6.408611,-6.510228,5.689211,5.0686107,-12.304402,-6.008674,-10.983428,-11.913069,-3.7463253,-2.9772289,7.7428737,-6.3809624,-16.912592,-1.980537,-14.183805,-13.463401,-20.80119,7.5295234,19.000067,6.8661413,-5.936518,12.136613,0.14994447,2.9707363,3.276442,-2.6719122,-0.7108747,-3.9980497,-1.7355472,-18.737617,6.2656817,-12.730403,16.435387,-4.40021,-4.200194,15.450197,2.7011604,-2.5029998,-14.6630335,8.473301,-6.994172,1.2198278,-13.065304,-7.524832,15.530337,-0.56662446,-12.389189,16.281736,20.862228,-1.2020328,16.209307,3.8649282,-13.897397,-19.54232,-12.06805,-6.7239933,-15.803962,6.7298737,15.636232,9.368862,8.577472,-2.7871351,6.9637566,-3.5619678,12.037682,-11.996224,11.627028,20.280298,-5.0747457,11.560811,-4.8718867,11.747297,13.465026,2.3346984,-8.6475115,6.7905974,-6.9329515,-12.240003,3.008006,6.203075,-10.793749,2.7140124,-1.0911216,-4.427532,9.298352,14.435189,15.425101,7.920194,3.0032008,-1.6682447,-16.955393,-10.529138,-9.491013,-7.180822,-9.010048,-6.158482,-4.6066275,-3.5184345,-6.0183244,9.748726,7.205915,-3.0165923,9.445745,-3.5530758,-7.4941244,5.5146885,-6.8557982,5.312077,20.738367,-9.898401,-0.008419895,3.6877012,-8.969794,-13.800439,-4.291499,-14.433163,-9.956251,-5.2864165,12.713451,7.579513,20.408869,-2.237638,11.188509,-13.520474,16.717001,5.968038,7.963668,11.996252,-17.85883,-3.4607875,-18.183886,0.15120485,-18.743671,21.33237,10.108417,0.3826226,-2.5246367,3.82462,7.6095686,-16.296707,-7.755535,11.481892,-8.867515,11.01517,-2.07919,3.048451,-18.322948,-6.408584,12.620375,-0.922346,10.502404,8.811958,3.597697,9.896395,-6.873155,-12.024935,-6.651194,3.7270284,-11.27168,-13.711222,7.606092,-8.779889,-7.988571,15.480212,1.8520864,17.691362,-20.606726,-9.573004,4.0941315,2.3715653,6.4750514,21.666605,-10.283594,-6.1668468,-12.858092,0.4275316,-3.5133889,-3.2016304,12.763259,9.317819,-12.127942,-0.23687154,0.76005906,-7.2906184,1.2768005,21.035856,4.639175,-2.481889,-5.88349,-9.781379,6.442988,7.959339,-13.760162,-16.28533,17.380356,-7.641832,1.5417407,-7.8041153,9.274358,-18.584272,2.2004428,5.270887,7.6724677,1.1640232,-13.033861,17.745111,-16.91768,1.6089536,14.600173,-10.622734,0.6671029,7.0161586,7.9881034,-9.235989,-6.730927,-10.040848,1.5997145,2.6032636,10.478435,7.2167172,0.018705718,4.735537,17.850548,5.0321956,-12.87884,3.282676,13.848219,-10.87959,12.805621,12.040542,-4.8037124,4.7328453,1.9826412,16.229563,-9.06754,-5.697249,-18.954618,4.030656,-1.7546957,20.909883,1.3649532,-2.3332748,-9.0050535,-2.9591475,-3.94719,12.998072,-0.5960039,9.5703335,-12.39359,-15.382631,5.286765,0.279181,-17.168123,-8.436344,2.8557398,-3.718666,2.449558,-4.1315393,-8.983239,-14.377929,0.41409487,9.393827,-22.197271,-0.09041447,19.765375,-7.4391494,2.89972,-7.7142725,11.773973,3.5319078,8.061695,-9.154608,-1.5022566,1.6467261,9.371177,9.80721,-9.308387,-4.390319,11.577869,3.6147811,7.493363,10.941614,5.0222087,18.02896,-5.7272496,17.592245,-3.8829608,-8.424105,15.998364,14.977494,14.199149,-18.96906,-5.095555,-0.042366818,7.754123,11.129899,11.517848,-5.5433817,-14.9151125,-8.053954,-15.176409,19.181816,4.7296796,-5.3321657,14.289885,-2.8637106,7.448969,3.139762,8.770987,-5.463857,9.27073,0.34452105,-9.041788,9.628139,-5.537706,-21.235746,4.878307,-9.140195,-18.23731,-13.246501,-9.418167,5.801164,0.31253275,-4.7156463,0.17479098,-0.47302696,14.010698,0.80587757,-7.751905,-5.1002097,10.415913,7.052569,-6.0153613,-7.86262,-14.379034,3.1741107,-13.427493,12.106573,-13.333846,10.282124,-20.777525,11.53331,-11.197587,-16.238865,-0.8045425,8.488677,2.8211384,6.6387234,-5.28097,11.137914,6.8589535,14.233295,4.3604236,12.916438,14.86329,-1.9447148,7.063777,-4.5713086,2.7611835,-9.379358,17.867626,-7.567801,-11.013534,18.264345,-1.5883614,-9.976227,-18.308764,5.335878,-4.9154725,8.10098,18.644842,9.360381,-10.82233,-21.693686,9.818428,4.331641,6.1488667,13.542211,-14.427886,-4.5736113,13.168126,19.97003,11.332611,-14.746745,-6.696804,-2.8875132,14.423663,8.484072,-4.902231,9.211496,-8.503843,16.597256,1.9218959,13.572589,-4.382867,14.599763,-10.632014,-5.993732,0.15993913,6.687346,-14.741893,-21.945587,-13.711115,-18.164701,-17.889397,-5.1946626,-0.9166171,-1.6746207,7.8500795,5.994781,-8.515583,-3.2575881,-3.2924428,-1.4748158,5.156881,-16.163893,14.270304,-4.157739,10.090876,6.098796,-6.671611,-18.37763,6.49841,4.35637,0.5716248,-2.2964637,7.728491,-2.8133643,-7.037326,-22.156816,-8.398362,10.382145,0.2713215,-1.4111309,-4.4958787,19.930939,-10.912336,-9.623898,7.694037,-14.596298,-13.93678,7.8592463,8.527133,-3.1484087,-15.483001,3.0964942,-12.134487,-0.9009802,16.684465,-9.444613,8.105736,6.9699774,2.4269497,1.20097,-3.4151459,13.066181,10.741058,9.272214,-0.34020016,-5.9491997,0.31353965,10.512609,4.6629076,19.024645,4.645198,6.0331993,-1.5658664,2.4605434,19.47598,13.48097,-1.7259145,4.9765587,13.310989,-1.393915,-0.11675066,7.29772,-9.575655,-11.468057,-11.756589,4.5527196,-10.258648,-17.011665,-1.6905863,-4.9752827,10.992883,12.710711,4.830886,1.8594632,-3.2612183,-14.420524,13.890961,-6.0520577,14.686839,14.373115,4.80226,-1.651002,-3.4327874,-3.4843776],\"xaxis\":\"x\",\"y\":[-9.991148,-7.3702984,3.4718175,3.2862508,1.5930204,7.2448325,14.420217,11.401886,4.9605837,-11.825155,-25.247124,13.497368,-1.2823157,-20.376251,12.409904,-23.583782,-3.382033,-2.4235258,4.178355,-9.05746,-6.9831786,15.177455,15.704631,10.86718,12.61802,5.9044995,16.618277,8.634526,12.191269,16.948822,-0.9786576,-4.4867444,5.323957,-4.762377,10.385987,-17.041582,3.6550956,18.325714,-1.3751136,3.81278,-16.055065,-6.1938405,18.806643,-2.6995347,0.77947927,3.4443605,-6.1345763,6.455181,14.767046,13.779,1.9176629,-23.783579,1.2967803,-12.472012,-8.830206,-2.748424,10.389874,-21.228498,-10.816121,19.175167,14.936787,20.536875,-16.257011,-0.8928622,1.9601701,3.944636,12.068744,-16.858793,3.4988148,-2.742699,-0.9428601,-8.360844,-15.936375,7.742566,4.7552223,4.5192266,3.225668,12.726351,-2.7840085,7.717571,-14.836513,-21.446297,0.8635184,17.36813,10.118919,-10.555667,7.42595,18.31328,-9.705885,19.885153,-18.138762,6.3969145,5.0955744,-12.995459,-18.622173,-9.079035,0.14291857,-11.670097,8.021972,7.9167995,12.146114,-0.97054183,7.2116423,-11.564713,5.0666018,-7.3425035,1.58013,1.2337408,7.760052,-3.2361267,2.8107429,-7.5508423,14.215855,3.9026008,16.810436,-5.376881,-6.878172,5.7893524,-23.15861,-23.292116,4.953871,10.432357,8.025201,-22.71405,15.893556,-5.529294,-0.07254565,19.75969,16.419706,-5.555656,5.525377,-4.755382,0.06532547,2.5575373,-6.4390984,5.270864,9.094426,-0.1385704,3.7978122,3.872529,13.111495,2.3989708,10.933281,0.2726251,-22.294584,19.224117,-1.449782,11.431176,7.307178,13.878496,17.19637,-9.248146,16.824568,-4.165736,15.116192,-20.766598,7.791663,-6.78116,-5.406435,-22.297747,-10.814687,-1.8138748,-21.918825,-19.506365,-16.348858,7.9015493,-7.871353,4.952833,4.2789254,-4.4010415,12.320969,-10.122561,-10.716982,5.8594065,15.638127,-22.29135,15.643132,-5.8997555,11.5751915,16.434923,-5.723185,-10.996774,17.299707,-1.3184527,17.113033,-15.260566,-14.54161,4.9919004,-2.4601076,-6.784356,-0.5789264,-14.612117,7.863086,10.86304,-11.34498,2.003065,-2.6575642,10.991986,9.807581,7.580156,17.838478,-3.267811,-5.0772004,-3.9344964,2.6837356,-14.9319935,3.5871303,-2.6876936,12.414371,8.746279,-5.353463,-6.8416677,0.2985857,-2.5224621,-10.197386,3.099445,-19.203568,-21.86138,11.072165,-15.125784,16.856245,13.905319,-20.794016,3.5232527,5.347548,9.29085,5.877125,-3.6418967,-14.338759,-3.6646338,-17.481424,-10.4113455,-18.03302,12.189655,-16.107634,1.3113201,-11.673368,-8.506571,-15.040672,-13.3019705,-14.428506,1.5651878,15.56923,-7.3130093,-22.280058,-16.627357,17.356842,15.076528,-12.693574,-16.288706,-2.2919478,-14.177017,-17.857243,8.047469,-3.8106215,-8.459222,-18.075846,-21.147945,1.4783629,-12.446938,19.446001,-19.45801,7.610611,4.979253,-1.3791459,3.7719991,-2.7369225,14.797448,20.64135,-1.0500909,7.990298,-11.601713,0.5269496,14.931366,0.74366105,-6.7534175,7.3222113,13.635445,6.066232,-13.098617,3.4357867,-22.101097,-17.553093,-13.905968,-20.368458,9.589169,1.5041261,13.554999,-12.011939,-7.795597,14.028486,3.0741677,-1.9625533,0.34961623,15.639504,-1.2666123,16.255445,-18.841309,0.13654415,-20.334755,-12.827507,-4.059954,0.10671177,-2.6902876,-15.899199,-8.172525,-1.9232826,-9.253415,-1.8778654,6.061092,-4.158211,18.194885,12.864179,-9.871607,-12.665331,2.310627,18.180784,-0.57259595,-15.10213,-5.0760856,-8.69634,3.1356385,-12.834443,18.369884,2.3565586,1.1617997,-10.570834,4.039463,8.465347,-17.574678,4.8296413,5.659449,-10.705016,-14.750732,17.14927,-14.087737,-19.496191,8.034805,-7.2129927,10.415041,-6.865584,-16.864136,-0.5295643,20.224222,10.931777,-6.1483393,-12.544998,-6.10335,20.67866,-0.629602,15.033361,-3.8124974,-10.59233,-4.5066442,-7.157238,-9.167336,3.6562152,14.297707,-5.091871,20.183073,17.283909,12.954695,13.460831,-13.153127,-1.860728,4.171251,17.854235,2.544746,7.3632126,11.095866,-21.251776,21.069944,13.181136,10.318204,-1.7205508,3.7158022,-7.05671,-8.071744,5.8144126,-17.328688,-11.783522,20.163689,-8.153899,6.1026554,-18.165398,-11.533599,-11.707935,11.351435,8.702756,8.2709675,-1.1858715,12.42573,-19.671305,-10.930921,-6.6318617,1.0674046,-4.4248877,-5.5288324,1.2487057,8.0880575,-12.53344,-12.992952,6.9838424,-3.772547,1.635148,-13.63732,-2.3832788,-15.1004505,-4.4354577,-2.300522,-12.766306,6.769162,-9.042788,-5.002794,1.2781664,17.918709,-4.5238037,0.73939997,19.212412,1.1905578,2.5264013,18.382582,-6.665755,-13.882613,14.84767,-6.952384,14.044029,11.395056,-9.282218,-17.948797,-2.5108047,-3.2273738,17.515537,-3.2430468,-21.167868,-16.201645,-17.124651,6.3557067,-15.845241,14.975489,10.364482,-16.113333,10.320518,20.738443,-16.507399,-2.4331214,-7.3042054,8.104236,-17.043783,9.945979,-11.004158,12.795974,-15.149673,2.3783815,5.2990074,14.389888,-24.484215,16.242332,7.026625,-1.2216913,-4.537256,13.044418,7.628222,9.539267,0.17084526,7.9220486,21.671078,-8.188073,-7.7569046,1.4085654,8.161881,-4.7665677,22.018217,20.534327,5.2151217,-14.931681,-20.149231,-19.21308,6.343202,-6.742133,8.030199,-0.45948154,12.171307,-0.05681612,4.454717,5.4753227,-13.2199335,17.026388,9.304352,11.635845,7.230544,5.63791,-14.705595,-16.816223,9.272611,0.8217214,-9.245096,-15.91262,13.363746,17.517654],\"yaxis\":\"y\",\"type\":\"scatter\"}],                        {\"template\":{\"data\":{\"histogram2dcontour\":[{\"type\":\"histogram2dcontour\",\"colorbar\":{\"outlinewidth\":0,\"ticks\":\"\"},\"colorscale\":[[0.0,\"#0d0887\"],[0.1111111111111111,\"#46039f\"],[0.2222222222222222,\"#7201a8\"],[0.3333333333333333,\"#9c179e\"],[0.4444444444444444,\"#bd3786\"],[0.5555555555555556,\"#d8576b\"],[0.6666666666666666,\"#ed7953\"],[0.7777777777777778,\"#fb9f3a\"],[0.8888888888888888,\"#fdca26\"],[1.0,\"#f0f921\"]]}],\"choropleth\":[{\"type\":\"choropleth\",\"colorbar\":{\"outlinewidth\":0,\"ticks\":\"\"}}],\"histogram2d\":[{\"type\":\"histogram2d\",\"colorbar\":{\"outlinewidth\":0,\"ticks\":\"\"},\"colorscale\":[[0.0,\"#0d0887\"],[0.1111111111111111,\"#46039f\"],[0.2222222222222222,\"#7201a8\"],[0.3333333333333333,\"#9c179e\"],[0.4444444444444444,\"#bd3786\"],[0.5555555555555556,\"#d8576b\"],[0.6666666666666666,\"#ed7953\"],[0.7777777777777778,\"#fb9f3a\"],[0.8888888888888888,\"#fdca26\"],[1.0,\"#f0f921\"]]}],\"heatmap\":[{\"type\":\"heatmap\",\"colorbar\":{\"outlinewidth\":0,\"ticks\":\"\"},\"colorscale\":[[0.0,\"#0d0887\"],[0.1111111111111111,\"#46039f\"],[0.2222222222222222,\"#7201a8\"],[0.3333333333333333,\"#9c179e\"],[0.4444444444444444,\"#bd3786\"],[0.5555555555555556,\"#d8576b\"],[0.6666666666666666,\"#ed7953\"],[0.7777777777777778,\"#fb9f3a\"],[0.8888888888888888,\"#fdca26\"],[1.0,\"#f0f921\"]]}],\"heatmapgl\":[{\"type\":\"heatmapgl\",\"colorbar\":{\"outlinewidth\":0,\"ticks\":\"\"},\"colorscale\":[[0.0,\"#0d0887\"],[0.1111111111111111,\"#46039f\"],[0.2222222222222222,\"#7201a8\"],[0.3333333333333333,\"#9c179e\"],[0.4444444444444444,\"#bd3786\"],[0.5555555555555556,\"#d8576b\"],[0.6666666666666666,\"#ed7953\"],[0.7777777777777778,\"#fb9f3a\"],[0.8888888888888888,\"#fdca26\"],[1.0,\"#f0f921\"]]}],\"contourcarpet\":[{\"type\":\"contourcarpet\",\"colorbar\":{\"outlinewidth\":0,\"ticks\":\"\"}}],\"contour\":[{\"type\":\"contour\",\"colorbar\":{\"outlinewidth\":0,\"ticks\":\"\"},\"colorscale\":[[0.0,\"#0d0887\"],[0.1111111111111111,\"#46039f\"],[0.2222222222222222,\"#7201a8\"],[0.3333333333333333,\"#9c179e\"],[0.4444444444444444,\"#bd3786\"],[0.5555555555555556,\"#d8576b\"],[0.6666666666666666,\"#ed7953\"],[0.7777777777777778,\"#fb9f3a\"],[0.8888888888888888,\"#fdca26\"],[1.0,\"#f0f921\"]]}],\"surface\":[{\"type\":\"surface\",\"colorbar\":{\"outlinewidth\":0,\"ticks\":\"\"},\"colorscale\":[[0.0,\"#0d0887\"],[0.1111111111111111,\"#46039f\"],[0.2222222222222222,\"#7201a8\"],[0.3333333333333333,\"#9c179e\"],[0.4444444444444444,\"#bd3786\"],[0.5555555555555556,\"#d8576b\"],[0.6666666666666666,\"#ed7953\"],[0.7777777777777778,\"#fb9f3a\"],[0.8888888888888888,\"#fdca26\"],[1.0,\"#f0f921\"]]}],\"mesh3d\":[{\"type\":\"mesh3d\",\"colorbar\":{\"outlinewidth\":0,\"ticks\":\"\"}}],\"scatter\":[{\"fillpattern\":{\"fillmode\":\"overlay\",\"size\":10,\"solidity\":0.2},\"type\":\"scatter\"}],\"parcoords\":[{\"type\":\"parcoords\",\"line\":{\"colorbar\":{\"outlinewidth\":0,\"ticks\":\"\"}}}],\"scatterpolargl\":[{\"type\":\"scatterpolargl\",\"marker\":{\"colorbar\":{\"outlinewidth\":0,\"ticks\":\"\"}}}],\"bar\":[{\"error_x\":{\"color\":\"#2a3f5f\"},\"error_y\":{\"color\":\"#2a3f5f\"},\"marker\":{\"line\":{\"color\":\"#E5ECF6\",\"width\":0.5},\"pattern\":{\"fillmode\":\"overlay\",\"size\":10,\"solidity\":0.2}},\"type\":\"bar\"}],\"scattergeo\":[{\"type\":\"scattergeo\",\"marker\":{\"colorbar\":{\"outlinewidth\":0,\"ticks\":\"\"}}}],\"scatterpolar\":[{\"type\":\"scatterpolar\",\"marker\":{\"colorbar\":{\"outlinewidth\":0,\"ticks\":\"\"}}}],\"histogram\":[{\"marker\":{\"pattern\":{\"fillmode\":\"overlay\",\"size\":10,\"solidity\":0.2}},\"type\":\"histogram\"}],\"scattergl\":[{\"type\":\"scattergl\",\"marker\":{\"colorbar\":{\"outlinewidth\":0,\"ticks\":\"\"}}}],\"scatter3d\":[{\"type\":\"scatter3d\",\"line\":{\"colorbar\":{\"outlinewidth\":0,\"ticks\":\"\"}},\"marker\":{\"colorbar\":{\"outlinewidth\":0,\"ticks\":\"\"}}}],\"scattermapbox\":[{\"type\":\"scattermapbox\",\"marker\":{\"colorbar\":{\"outlinewidth\":0,\"ticks\":\"\"}}}],\"scatterternary\":[{\"type\":\"scatterternary\",\"marker\":{\"colorbar\":{\"outlinewidth\":0,\"ticks\":\"\"}}}],\"scattercarpet\":[{\"type\":\"scattercarpet\",\"marker\":{\"colorbar\":{\"outlinewidth\":0,\"ticks\":\"\"}}}],\"carpet\":[{\"aaxis\":{\"endlinecolor\":\"#2a3f5f\",\"gridcolor\":\"white\",\"linecolor\":\"white\",\"minorgridcolor\":\"white\",\"startlinecolor\":\"#2a3f5f\"},\"baxis\":{\"endlinecolor\":\"#2a3f5f\",\"gridcolor\":\"white\",\"linecolor\":\"white\",\"minorgridcolor\":\"white\",\"startlinecolor\":\"#2a3f5f\"},\"type\":\"carpet\"}],\"table\":[{\"cells\":{\"fill\":{\"color\":\"#EBF0F8\"},\"line\":{\"color\":\"white\"}},\"header\":{\"fill\":{\"color\":\"#C8D4E3\"},\"line\":{\"color\":\"white\"}},\"type\":\"table\"}],\"barpolar\":[{\"marker\":{\"line\":{\"color\":\"#E5ECF6\",\"width\":0.5},\"pattern\":{\"fillmode\":\"overlay\",\"size\":10,\"solidity\":0.2}},\"type\":\"barpolar\"}],\"pie\":[{\"automargin\":true,\"type\":\"pie\"}]},\"layout\":{\"autotypenumbers\":\"strict\",\"colorway\":[\"#636efa\",\"#EF553B\",\"#00cc96\",\"#ab63fa\",\"#FFA15A\",\"#19d3f3\",\"#FF6692\",\"#B6E880\",\"#FF97FF\",\"#FECB52\"],\"font\":{\"color\":\"#2a3f5f\"},\"hovermode\":\"closest\",\"hoverlabel\":{\"align\":\"left\"},\"paper_bgcolor\":\"white\",\"plot_bgcolor\":\"#E5ECF6\",\"polar\":{\"bgcolor\":\"#E5ECF6\",\"angularaxis\":{\"gridcolor\":\"white\",\"linecolor\":\"white\",\"ticks\":\"\"},\"radialaxis\":{\"gridcolor\":\"white\",\"linecolor\":\"white\",\"ticks\":\"\"}},\"ternary\":{\"bgcolor\":\"#E5ECF6\",\"aaxis\":{\"gridcolor\":\"white\",\"linecolor\":\"white\",\"ticks\":\"\"},\"baxis\":{\"gridcolor\":\"white\",\"linecolor\":\"white\",\"ticks\":\"\"},\"caxis\":{\"gridcolor\":\"white\",\"linecolor\":\"white\",\"ticks\":\"\"}},\"coloraxis\":{\"colorbar\":{\"outlinewidth\":0,\"ticks\":\"\"}},\"colorscale\":{\"sequential\":[[0.0,\"#0d0887\"],[0.1111111111111111,\"#46039f\"],[0.2222222222222222,\"#7201a8\"],[0.3333333333333333,\"#9c179e\"],[0.4444444444444444,\"#bd3786\"],[0.5555555555555556,\"#d8576b\"],[0.6666666666666666,\"#ed7953\"],[0.7777777777777778,\"#fb9f3a\"],[0.8888888888888888,\"#fdca26\"],[1.0,\"#f0f921\"]],\"sequentialminus\":[[0.0,\"#0d0887\"],[0.1111111111111111,\"#46039f\"],[0.2222222222222222,\"#7201a8\"],[0.3333333333333333,\"#9c179e\"],[0.4444444444444444,\"#bd3786\"],[0.5555555555555556,\"#d8576b\"],[0.6666666666666666,\"#ed7953\"],[0.7777777777777778,\"#fb9f3a\"],[0.8888888888888888,\"#fdca26\"],[1.0,\"#f0f921\"]],\"diverging\":[[0,\"#8e0152\"],[0.1,\"#c51b7d\"],[0.2,\"#de77ae\"],[0.3,\"#f1b6da\"],[0.4,\"#fde0ef\"],[0.5,\"#f7f7f7\"],[0.6,\"#e6f5d0\"],[0.7,\"#b8e186\"],[0.8,\"#7fbc41\"],[0.9,\"#4d9221\"],[1,\"#276419\"]]},\"xaxis\":{\"gridcolor\":\"white\",\"linecolor\":\"white\",\"ticks\":\"\",\"title\":{\"standoff\":15},\"zerolinecolor\":\"white\",\"automargin\":true,\"zerolinewidth\":2},\"yaxis\":{\"gridcolor\":\"white\",\"linecolor\":\"white\",\"ticks\":\"\",\"title\":{\"standoff\":15},\"zerolinecolor\":\"white\",\"automargin\":true,\"zerolinewidth\":2},\"scene\":{\"xaxis\":{\"backgroundcolor\":\"#E5ECF6\",\"gridcolor\":\"white\",\"linecolor\":\"white\",\"showbackground\":true,\"ticks\":\"\",\"zerolinecolor\":\"white\",\"gridwidth\":2},\"yaxis\":{\"backgroundcolor\":\"#E5ECF6\",\"gridcolor\":\"white\",\"linecolor\":\"white\",\"showbackground\":true,\"ticks\":\"\",\"zerolinecolor\":\"white\",\"gridwidth\":2},\"zaxis\":{\"backgroundcolor\":\"#E5ECF6\",\"gridcolor\":\"white\",\"linecolor\":\"white\",\"showbackground\":true,\"ticks\":\"\",\"zerolinecolor\":\"white\",\"gridwidth\":2}},\"shapedefaults\":{\"line\":{\"color\":\"#2a3f5f\"}},\"annotationdefaults\":{\"arrowcolor\":\"#2a3f5f\",\"arrowhead\":0,\"arrowwidth\":1},\"geo\":{\"bgcolor\":\"white\",\"landcolor\":\"#E5ECF6\",\"subunitcolor\":\"white\",\"showland\":true,\"showlakes\":true,\"lakecolor\":\"white\"},\"title\":{\"x\":0.05},\"mapbox\":{\"style\":\"light\"}}},\"xaxis\":{\"anchor\":\"y\",\"domain\":[0.0,1.0],\"title\":{\"text\":\"PC1\"}},\"yaxis\":{\"anchor\":\"x\",\"domain\":[0.0,1.0],\"title\":{\"text\":\"PC2\"}},\"legend\":{\"tracegroupgap\":0},\"title\":{\"text\":\"t-SNE of Potion Embeddings\"},\"height\":1600,\"width\":1600},                        {\"responsive\": true}                    ).then(function(){\n",
              "                            \n",
              "var gd = document.getElementById('1a4d1a5e-ee73-4809-b82a-a3da72554869');\n",
              "var x = new MutationObserver(function (mutations, observer) {{\n",
              "        var display = window.getComputedStyle(gd).display;\n",
              "        if (!display || display === 'none') {{\n",
              "            console.log([gd, 'removed!']);\n",
              "            Plotly.purge(gd);\n",
              "            observer.disconnect();\n",
              "        }}\n",
              "}});\n",
              "\n",
              "// Listen for the removal of the full notebook cells\n",
              "var notebookContainer = gd.closest('#notebook-container');\n",
              "if (notebookContainer) {{\n",
              "    x.observe(notebookContainer, {childList: true});\n",
              "}}\n",
              "\n",
              "// Listen for the clearing of the current output cell\n",
              "var outputEl = gd.closest('.output');\n",
              "if (outputEl) {{\n",
              "    x.observe(outputEl, {childList: true});\n",
              "}}\n",
              "\n",
              "                        })                };                            </script>        </div>\n",
              "</body>\n",
              "</html>"
            ]
          },
          "metadata": {}
        }
      ]
    },
    {
      "cell_type": "markdown",
      "source": [
        "## c. Uniform Manifold Approximation and Projection (UMAP)\n"
      ],
      "metadata": {
        "id": "1vbrv1hjgO-X"
      }
    },
    {
      "cell_type": "code",
      "source": [
        "# Apply UMAP\n",
        "umap_model = umap.UMAP(n_components=2, n_neighbors=15, min_dist=0.1, random_state=42)\n",
        "embeddings_umap = umap_model.fit_transform(embeddings)\n",
        "\n",
        "df_umap = pd.DataFrame(embeddings_umap, columns=[\"PC1\", \"PC2\"])\n",
        "df_umap[\"word\"] = random_words\n",
        "\n",
        "# Plot UMAP results using Plotly\n",
        "fig_umap = px.scatter(\n",
        "    df_umap, x=\"PC1\", y=\"PC2\",\n",
        "    width=1600,\n",
        "    height=1600,\n",
        "    text=\"word\",\n",
        "    title=\"UMAP of Potion Embeddings\",\n",
        "    labels={'0': 'Component 1', '1': 'Component 2'}\n",
        ")\n",
        "fig_umap.update_traces(marker=dict(size=8))\n",
        "fig_umap.show()"
      ],
      "metadata": {
        "id": "F93YStgCytLo",
        "colab": {
          "base_uri": "https://localhost:8080/",
          "height": 1000
        },
        "outputId": "1a54194e-32d6-4602-cc3c-ad22ea47769b"
      },
      "execution_count": 38,
      "outputs": [
        {
          "output_type": "stream",
          "name": "stderr",
          "text": [
            "/usr/local/lib/python3.11/dist-packages/umap/umap_.py:1945: UserWarning:\n",
            "\n",
            "n_jobs value 1 overridden to 1 by setting random_state. Use no seed for parallelism.\n",
            "\n"
          ]
        },
        {
          "output_type": "display_data",
          "data": {
            "text/html": [
              "<html>\n",
              "<head><meta charset=\"utf-8\" /></head>\n",
              "<body>\n",
              "    <div>            <script src=\"https://cdnjs.cloudflare.com/ajax/libs/mathjax/2.7.5/MathJax.js?config=TeX-AMS-MML_SVG\"></script><script type=\"text/javascript\">if (window.MathJax && window.MathJax.Hub && window.MathJax.Hub.Config) {window.MathJax.Hub.Config({SVG: {font: \"STIX-Web\"}});}</script>                <script type=\"text/javascript\">window.PlotlyConfig = {MathJaxConfig: 'local'};</script>\n",
              "        <script charset=\"utf-8\" src=\"https://cdn.plot.ly/plotly-2.24.1.min.js\"></script>                <div id=\"c7815e40-2e54-4435-ba3f-a037438a6477\" class=\"plotly-graph-div\" style=\"height:1600px; width:1600px;\"></div>            <script type=\"text/javascript\">                                    window.PLOTLYENV=window.PLOTLYENV || {};                                    if (document.getElementById(\"c7815e40-2e54-4435-ba3f-a037438a6477\")) {                    Plotly.newPlot(                        \"c7815e40-2e54-4435-ba3f-a037438a6477\",                        [{\"hovertemplate\":\"PC1=%{x}\\u003cbr\\u003ePC2=%{y}\\u003cbr\\u003eword=%{text}\\u003cextra\\u003e\\u003c\\u002fextra\\u003e\",\"legendgroup\":\"\",\"marker\":{\"color\":\"#636efa\",\"symbol\":\"circle\",\"size\":8},\"mode\":\"markers+text\",\"name\":\"\",\"orientation\":\"v\",\"showlegend\":false,\"text\":[\"ramey\",\"atlanta\",\"waking\",\"baton\",\"within\",\"unbroken\",\"dealings\",\"flung\",\"carl\",\"wheel\",\"danish\",\"frantic\",\"bringing\",\"driving\",\"backward\",\"portland\",\"delphine\",\"lousy\",\"nine\",\"historic\",\"burning\",\"oddly\",\"angrily\",\"plain\",\"silent\",\"attained\",\"comic\",\"served\",\"ghost\",\"pity\",\"clean\",\"far\",\"loads\",\"congress\",\"termed\",\"wet\",\"december\",\"reporter\",\"decade\",\"closing\",\"nails\",\"work\",\"mess\",\"seal\",\"persian\",\"grasp\",\"inquirer\",\"stall\",\"dealt\",\"looks\",\"grand\",\"salem\",\"resemble\",\"variable\",\"duck\",\"spur\",\"society\",\"cruising\",\"pin\",\"genius\",\"eyes\",\"learns\",\"clothing\",\"residue\",\"initial\",\"last\",\"clearer\",\"shell\",\"signed\",\"eighty\",\"recover\",\"mike\",\"stream\",\"genuine\",\"released\",\"climb\",\"held\",\"aside\",\"regulus\",\"targets\",\"cow\",\"chill\",\"period\",\"humorous\",\"coward\",\"baseball\",\"smoothly\",\"informed\",\"doctors\",\"solving\",\"gore\",\"occupy\",\"bunch\",\"shaft\",\"polaris\",\"terrace\",\"effect\",\"grain\",\"bread\",\"servant\",\"incident\",\"suite\",\"upright\",\"bear\",\"happy\",\"housing\",\"screw\",\"into\",\"heaven\",\"setup\",\"greater\",\"pat\",\"bells\",\"raised\",\"divorced\",\"district\",\"bedroom\",\"force\",\"falls\",\"wright\",\"official\",\"equality\",\"excess\",\"phoenix\",\"check\",\"democrat\",\"cousins\",\"profound\",\"wondered\",\"champion\",\"array\",\"borrow\",\"saint\",\"retain\",\"mileage\",\"full\",\"well\",\"use\",\"closed\",\"rise\",\"rather\",\"missions\",\"hazards\",\"generous\",\"floating\",\"studied\",\"sweep\",\"reminder\",\"four\",\"fight\",\"scrutiny\",\"penny\",\"test\",\"managing\",\"crack\",\"gene\",\"heavenly\",\"iodide\",\"table\",\"podger\",\"rubber\",\"slums\",\"strains\",\"seas\",\"greek\",\"special\",\"alex\",\"tall\",\"ten\",\"chart\",\"excuse\",\"draft\",\"opera\",\"expanded\",\"cases\",\"flight\",\"bet\",\"ada\",\"stressed\",\"crying\",\"player\",\"artists\",\"jury\",\"absorb\",\"irony\",\"dialysis\",\"bacon\",\"max\",\"mounting\",\"council\",\"returns\",\"per\",\"mighty\",\"equally\",\"turned\",\"crusade\",\"niece\",\"harm\",\"promise\",\"sundays\",\"passages\",\"francis\",\"edged\",\"site\",\"launch\",\"meats\",\"marching\",\"kid\",\"halfback\",\"strive\",\"persons\",\"devoting\",\"ways\",\"bags\",\"cultural\",\"events\",\"engine\",\"sank\",\"conveyed\",\"cattle\",\"testing\",\"seldom\",\"street\",\"arise\",\"high\",\"vital\",\"defense\",\"stored\",\"korea\",\"line\",\"jane\",\"mitchell\",\"bath\",\"justify\",\"agrarian\",\"similar\",\"rock\",\"matson\",\"essex\",\"vince\",\"diet\",\"gran\",\"remark\",\"village\",\"drifted\",\"liquid\",\"misery\",\"compared\",\"mouth\",\"dressing\",\"leg\",\"hair\",\"grease\",\"resisted\",\"effluent\",\"argiento\",\"warren\",\"hudson\",\"life\",\"rifle\",\"veto\",\"tree\",\"insist\",\"smiles\",\"yellow\",\"stayed\",\"aged\",\"opposing\",\"poem\",\"exerted\",\"honest\",\"voltage\",\"assign\",\"disputes\",\"isolate\",\"arc\",\"promptly\",\"beneath\",\"boy\",\"barrel\",\"sign\",\"fogg\",\"hood\",\"heel\",\"sweat\",\"known\",\"chase\",\"seen\",\"hunting\",\"eromonga\",\"look\",\"original\",\"honors\",\"abbey\",\"spite\",\"relieve\",\"curious\",\"virus\",\"wealth\",\"taxing\",\"tangle\",\"incest\",\"cromwell\",\"younger\",\"sherry\",\"floor\",\"tribute\",\"turnpike\",\"carry\",\"success\",\"managed\",\"horrible\",\"upon\",\"carnegie\",\"mineral\",\"arrived\",\"ugly\",\"spring\",\"joan\",\"data\",\"fraction\",\"soldier\",\"mining\",\"miracles\",\"maintain\",\"pulled\",\"gibson\",\"continue\",\"nowadays\",\"brazil\",\"touching\",\"deadly\",\"producer\",\"monroe\",\"disliked\",\"ions\",\"timber\",\"tougher\",\"comedie\",\"ordinary\",\"dandy\",\"vinegar\",\"sprang\",\"scholars\",\"issuance\",\"french\",\"lips\",\"employed\",\"poetic\",\"acquire\",\"revenge\",\"role\",\"theatre\",\"others\",\"doors\",\"keith\",\"versions\",\"buzz\",\"operates\",\"bastard\",\"funny\",\"troubles\",\"shown\",\"sphere\",\"print\",\"tops\",\"sigh\",\"dates\",\"fourth\",\"deserved\",\"ferry\",\"theory\",\"rendered\",\"ideally\",\"paper\",\"north\",\"graduate\",\"gates\",\"heavier\",\"pink\",\"spun\",\"goddamn\",\"his\",\"largest\",\"kirov\",\"spindle\",\"texture\",\"anxiety\",\"besides\",\"hesitate\",\"restored\",\"chiefly\",\"marine\",\"designer\",\"arches\",\"keen\",\"scratch\",\"person\",\"weeks\",\"blessing\",\"cheeks\",\"ohio\",\"fbi\",\"nelson\",\"cavalry\",\"neurotic\",\"andrei\",\"buffer\",\"grant\",\"vacuum\",\"violin\",\"sturdy\",\"saviour\",\"credit\",\"exploit\",\"sighed\",\"facility\",\"knights\",\"facts\",\"stole\",\"comes\",\"wonders\",\"tommy\",\"newt\",\"blindly\",\"doorway\",\"hearing\",\"scared\",\"museum\",\"tanks\",\"resent\",\"bronze\",\"resigned\",\"required\",\"ghetto\",\"drunk\",\"water\",\"massive\",\"lime\",\"claims\",\"equals\",\"polish\",\"sunlight\",\"thinking\",\"wear\",\"rite\",\"shayne\",\"hardest\",\"egg\",\"courage\",\"design\",\"problems\",\"sewing\",\"begin\",\"reached\",\"speech\",\"seattle\",\"analyzed\",\"exactly\",\"include\",\"aid\",\"attacked\",\"stubborn\",\"proper\",\"induce\",\"nearly\",\"describe\",\"graves\",\"cottage\",\"living\",\"numerous\",\"member\",\"tory\",\"writings\",\"announce\",\"tastes\",\"cities\",\"privacy\",\"sons\",\"deduct\",\"focus\",\"harness\",\"issue\",\"cardinal\",\"stops\",\"dies\",\"sales\",\"examined\",\"critical\",\"messages\",\"slavery\",\"forces\",\"kansas\",\"pool\",\"external\",\"suited\",\"wagner\",\"drink\",\"urgent\",\"agony\"],\"x\":[3.1591272,4.2910914,4.6900997,2.9491272,5.401196,3.8778126,3.2054849,2.5187247,5.411367,2.6260297,3.8256466,2.3264458,3.82489,2.5337324,2.550891,2.6256037,3.5122085,3.4976282,4.6843185,5.521151,5.971682,5.468785,2.4062567,4.6626563,3.0999863,3.8544023,4.231528,3.7332609,3.052567,2.1426616,2.185674,3.6008384,3.8055935,4.341949,4.526081,1.6492219,4.001195,6.0247583,5.265706,3.2508142,3.3094544,4.6250343,2.1039624,3.9796247,4.5178943,2.7550318,6.120436,3.2173848,3.1347787,6.3672,4.4434004,3.045447,6.288431,3.1905496,3.2034621,3.30327,5.981601,2.0671496,3.0016508,5.8343544,6.5650992,6.284953,6.3066025,2.0922735,4.7024727,3.044081,4.4723396,2.6714165,4.665621,5.537726,2.6682901,5.3306932,1.7229977,5.057644,4.8882904,3.5731509,2.9976232,5.207947,3.2415273,3.9999518,4.56277,1.7365086,4.508597,4.2489753,3.0702677,4.629098,4.5458155,5.9944296,6.10306,6.1863775,3.6166544,3.1442628,2.2224903,2.7394822,2.2816722,4.813191,2.0689423,3.8560486,5.5702395,6.0796824,2.2166843,4.406715,4.341458,3.9719532,4.5139933,5.0071774,2.8960428,5.170316,5.5033703,4.2302294,4.3527055,3.63724,3.6250384,3.6772835,2.7833757,4.1986437,5.187503,3.842653,1.6148967,2.4787302,4.87005,5.0285854,4.5894217,2.744148,6.0673833,4.077294,5.946347,5.788549,6.035927,3.2783928,3.8571138,3.2890427,4.811252,3.503307,3.2220047,4.343863,4.7741895,2.308426,2.9738853,3.8063781,5.329417,5.0454884,1.9519714,5.0965586,1.7607038,6.319739,2.1534932,3.6456158,4.5554123,2.9487433,6.2302265,5.0205855,6.0690074,4.2189407,3.8704126,3.3195632,5.4579988,3.822256,5.823995,3.4532359,3.0420785,3.4674919,1.7972451,1.9988723,3.8867388,5.2998624,4.396435,4.1083064,4.6453266,4.030935,2.6800895,5.2955527,5.451551,4.366141,3.3403108,2.131212,3.1718595,4.249377,1.8570287,1.9718186,5.9859314,6.000054,3.1218872,2.0929196,4.2254424,2.1908216,4.3314266,4.336438,3.770771,4.9055095,2.673511,5.0627904,4.3119917,5.025086,2.5100973,5.079757,6.063989,2.0823925,3.5782278,5.4846125,5.9855385,3.8962488,4.8561096,4.468079,4.500826,4.3191075,3.8653445,5.7050986,2.6451497,3.5884056,6.233896,3.5485678,2.8420863,3.7375722,5.8378067,4.6337147,2.6439643,1.7505251,3.836301,4.5464306,6.083185,5.379577,4.14699,4.6387954,4.1522646,4.7370653,4.052334,4.0413504,5.069718,3.271477,4.932774,4.8692884,1.7408301,4.4312816,4.390648,5.951923,2.537049,4.766691,2.8347151,4.633405,2.2029676,3.679199,3.9903977,5.2135725,1.744182,1.6633588,2.0138476,5.8679457,3.0195575,6.3688393,3.620686,3.0738986,2.7152977,3.3058572,3.5861402,4.3467636,3.79847,5.086025,5.468362,3.9891663,2.9172354,3.054404,3.4794734,4.1327863,4.653037,3.4598496,5.692064,2.802865,5.8068576,3.028397,5.5697956,2.7657053,4.334375,2.6352148,2.4448628,4.72793,4.7036967,5.5774455,5.6101236,3.3786504,4.3707075,3.3464031,6.189669,6.401604,1.6468911,4.819101,2.122668,6.399282,3.955399,4.2056484,6.5583086,5.6049857,5.6580796,4.978486,2.4621942,2.1971903,6.0081477,2.6066403,5.223229,2.5428486,2.7599392,3.8444188,5.3034897,6.0338397,4.9476304,5.0391426,5.8458705,2.8877358,3.7254717,3.8884966,4.270701,2.1453133,5.486878,5.3226833,2.499974,4.6163177,2.1580453,4.330052,4.8962812,3.8795555,2.6380947,4.2689085,2.7785745,5.6694765,4.0048547,2.806834,5.5879965,3.452882,5.187524,4.530862,3.9660373,2.4835916,5.2370534,5.5129976,2.2497425,2.3748488,3.0815904,3.3862815,3.8905609,5.1926613,3.8991103,4.801604,3.2437189,6.3319488,4.514357,4.701781,3.1785984,4.30839,5.9116306,3.1880345,2.5056431,6.2598066,5.6556053,6.1874,5.2300763,5.471798,5.1499424,2.210134,4.2713904,2.4080768,4.2283382,1.9875278,6.216466,2.5551856,4.0057592,4.1405883,2.121343,4.714648,4.54964,4.0014086,2.231778,6.368589,6.1417084,5.1636567,4.471134,4.6718006,4.5401335,5.081838,3.8444006,3.6275537,2.3662043,2.374871,5.6522236,4.35124,5.0410967,2.5407932,2.7026565,2.1321332,5.1845546,2.8679163,5.6697474,5.2865095,2.113022,6.4209805,4.983132,4.918184,3.0647986,6.2518406,4.7897058,5.310236,3.0176835,3.4310951,3.8864927,3.624087,4.610253,3.4211383,4.2065077,2.054886,3.4718525,2.4261627,5.928194,3.8514667,5.6211963,4.8308306,2.7001154,2.099973,4.380342,5.0687323,5.843195,2.7158337,4.6754346,5.8126945,5.656031,3.1971052,5.353886,5.217139,3.5103168,2.4617057,5.7846966,1.7955406,3.3388171,4.4816065,3.0778964,4.365849,4.1739674,1.9067487,1.7045666,4.499927,2.4703465,3.7068048,5.1682506,3.26002,6.5889797,6.2527885,6.445997,2.1591775,4.042326,3.157304,2.83707,3.486983,6.4847045,1.9930023,6.0081925,4.713205,3.7714262,3.8257098,2.5901985,6.305821,4.985839,4.4716997,3.511068,2.4275954,3.3303227,4.9610405,3.0786748,4.7333503,6.248333,5.402708,5.276828,5.372226,4.7284884,6.2143517,5.4036283,6.050367,4.7283087,2.0685132,4.7404094,3.78299,5.2947536,3.6450408,6.2497225,3.471976,4.2008266,4.5747995,3.100283,2.797453,6.2184186,6.2842035,4.7435913,3.9415154,5.947616,4.122001,5.058252,1.7101129,5.024994,6.311889,5.2032943,1.8658705,2.4317694,1.9277234],\"xaxis\":\"x\",\"y\":[10.812605,10.704956,13.290124,12.811917,13.731102,14.4665575,12.99818,12.511175,10.741441,10.966652,10.851708,13.669327,12.491777,10.468372,12.088268,10.20115,11.449743,11.74108,11.033009,11.454314,12.656733,14.596638,14.147854,13.906079,13.469321,14.266881,13.7454405,13.377004,13.626606,14.20333,12.517681,10.571968,12.548162,11.408383,13.669702,11.450279,12.156981,13.166386,11.956117,13.3204775,11.157253,12.118665,13.545999,13.221309,9.984875,12.251378,10.744466,13.8669,13.097765,12.585925,14.763193,10.249738,12.398063,11.154905,9.877151,11.536076,11.519627,10.478417,11.551565,13.72158,13.060475,13.906347,12.001219,12.519345,13.038996,13.346422,14.140867,10.655106,13.244665,12.278501,12.645556,10.503611,11.395558,13.939342,13.14737,14.507763,12.58254,14.554898,10.5523205,9.826312,9.809066,12.696067,11.451686,13.722783,14.448027,10.069689,13.981951,13.52943,12.548243,13.797653,9.767674,13.806021,12.780774,10.87447,10.927757,10.571083,12.721087,9.865947,10.289742,10.654471,13.305534,12.304997,14.508315,9.609284,13.617782,12.098175,12.216975,13.466298,12.990972,12.421063,14.896364,11.159306,12.946795,14.680175,13.746073,11.132156,12.406034,10.44824,10.911825,10.323879,13.274991,14.327392,14.999818,10.121911,14.251324,11.003844,11.655219,13.620101,14.156421,14.346375,11.478042,12.490303,10.216395,13.60221,10.768806,15.181144,14.118738,12.023047,13.292337,14.760772,14.418391,9.791477,13.260354,13.152179,10.720299,13.955452,12.498736,13.537595,11.334307,14.336006,14.145116,12.002976,14.238784,12.899229,13.802543,10.075786,12.996532,11.125411,11.284,10.10065,10.844459,11.911509,12.789602,10.578663,10.425738,13.779936,11.581652,14.925739,11.540996,11.758765,13.905367,10.405279,11.14438,15.194522,13.075842,10.341472,12.987734,11.157642,13.578373,14.018131,10.766539,11.217791,12.9050865,12.208118,14.077388,11.427116,9.544268,15.23359,12.824567,11.786592,12.263681,11.213035,14.523406,14.369311,11.747001,9.80262,11.32218,13.216157,13.621988,12.324302,13.494384,10.2405815,11.539799,12.203467,12.919868,9.522834,12.68287,11.032304,12.100591,14.146233,10.916559,11.304134,12.213133,12.392574,11.309115,11.9932375,10.289909,10.747399,13.338985,9.588186,14.225935,14.651681,10.718339,13.406365,15.112444,14.200372,10.831642,12.739602,10.534763,11.721262,10.782351,10.365326,11.607363,14.553114,9.500256,12.546645,11.018992,11.806176,10.074798,10.231212,11.089011,9.955015,13.427184,11.918777,10.74424,11.400257,14.055777,14.351803,11.803187,11.898157,11.750704,11.348756,11.218084,14.335856,11.088829,10.583489,9.584413,10.419126,13.15256,9.645526,12.9890175,10.71772,13.995482,13.487831,11.098791,13.782219,11.958373,14.300421,13.519556,12.169941,14.219695,11.427304,13.000854,14.0785265,12.7032175,11.202612,13.976879,13.627299,10.949444,9.6549225,13.123609,10.044726,12.042261,11.781632,11.845546,14.867976,12.056718,12.949993,9.5851755,10.4961195,12.810498,12.84193,12.819587,10.196834,14.351763,12.344923,14.305822,13.267955,12.863082,10.34571,11.715249,11.841952,10.085291,11.512359,10.498561,12.180037,12.743523,10.343832,12.321876,14.25379,13.002233,14.13339,14.167049,11.635661,11.034474,13.135401,14.220704,11.406638,10.420365,11.664089,11.056416,10.0711775,11.120154,13.32833,13.461276,12.492407,11.536279,13.602494,13.578135,9.513037,11.993215,13.309775,10.921922,11.666949,14.168817,11.276807,10.436712,14.581538,11.046129,13.993527,10.968831,10.779045,11.974119,13.320544,12.822409,10.366178,11.749168,12.906408,13.544947,12.601345,14.250598,10.879049,11.337337,11.023289,12.166154,10.589117,12.614329,13.198382,12.655868,14.393976,13.744782,13.96823,12.756662,11.248059,11.63495,15.077838,13.872775,12.028367,11.249268,14.254435,10.321554,13.724853,12.747339,14.153951,11.723661,10.97203,12.88967,11.351272,14.589444,10.933007,11.62605,14.511697,10.6294,15.260663,10.746454,11.570525,11.25918,13.569591,13.703228,13.769967,12.765972,14.409896,10.455179,12.458445,11.105969,14.213312,12.040313,10.903143,12.608239,13.088756,11.777879,9.881345,10.152817,10.258676,9.86331,10.600787,10.039167,11.563121,12.487477,12.109558,11.206852,14.601967,10.444346,12.194565,12.662391,13.875312,12.367785,9.908746,13.2968445,12.709006,13.120874,13.585513,11.098785,10.112554,14.661749,12.539315,13.260078,13.681608,11.646982,11.195534,11.969537,10.887829,13.553131,12.694541,10.728639,11.761629,11.279323,15.126439,10.883598,13.071903,14.372604,11.002404,12.898675,13.859452,12.079351,12.376381,10.853533,14.591308,10.629058,14.492846,12.555037,13.893965,11.605643,13.15242,14.402373,13.247953,10.165797,14.072376,14.119854,12.463932,12.449348,13.833656,14.129042,14.1166525,12.493727,14.948564,13.394119,11.452603,12.0842495,12.503434,15.051578,10.862074,14.245375,13.429619,13.160039,11.234353,10.808048,12.33712,11.375155,11.262078,13.883326,12.437942,13.071099,10.1043625,13.392198,13.223724,11.476694,14.090824,14.34641,13.165746,10.592877,10.711271,10.08251,11.289591,13.536089,12.242377,11.139687,11.368624,13.655649,13.886554],\"yaxis\":\"y\",\"type\":\"scatter\"}],                        {\"template\":{\"data\":{\"histogram2dcontour\":[{\"type\":\"histogram2dcontour\",\"colorbar\":{\"outlinewidth\":0,\"ticks\":\"\"},\"colorscale\":[[0.0,\"#0d0887\"],[0.1111111111111111,\"#46039f\"],[0.2222222222222222,\"#7201a8\"],[0.3333333333333333,\"#9c179e\"],[0.4444444444444444,\"#bd3786\"],[0.5555555555555556,\"#d8576b\"],[0.6666666666666666,\"#ed7953\"],[0.7777777777777778,\"#fb9f3a\"],[0.8888888888888888,\"#fdca26\"],[1.0,\"#f0f921\"]]}],\"choropleth\":[{\"type\":\"choropleth\",\"colorbar\":{\"outlinewidth\":0,\"ticks\":\"\"}}],\"histogram2d\":[{\"type\":\"histogram2d\",\"colorbar\":{\"outlinewidth\":0,\"ticks\":\"\"},\"colorscale\":[[0.0,\"#0d0887\"],[0.1111111111111111,\"#46039f\"],[0.2222222222222222,\"#7201a8\"],[0.3333333333333333,\"#9c179e\"],[0.4444444444444444,\"#bd3786\"],[0.5555555555555556,\"#d8576b\"],[0.6666666666666666,\"#ed7953\"],[0.7777777777777778,\"#fb9f3a\"],[0.8888888888888888,\"#fdca26\"],[1.0,\"#f0f921\"]]}],\"heatmap\":[{\"type\":\"heatmap\",\"colorbar\":{\"outlinewidth\":0,\"ticks\":\"\"},\"colorscale\":[[0.0,\"#0d0887\"],[0.1111111111111111,\"#46039f\"],[0.2222222222222222,\"#7201a8\"],[0.3333333333333333,\"#9c179e\"],[0.4444444444444444,\"#bd3786\"],[0.5555555555555556,\"#d8576b\"],[0.6666666666666666,\"#ed7953\"],[0.7777777777777778,\"#fb9f3a\"],[0.8888888888888888,\"#fdca26\"],[1.0,\"#f0f921\"]]}],\"heatmapgl\":[{\"type\":\"heatmapgl\",\"colorbar\":{\"outlinewidth\":0,\"ticks\":\"\"},\"colorscale\":[[0.0,\"#0d0887\"],[0.1111111111111111,\"#46039f\"],[0.2222222222222222,\"#7201a8\"],[0.3333333333333333,\"#9c179e\"],[0.4444444444444444,\"#bd3786\"],[0.5555555555555556,\"#d8576b\"],[0.6666666666666666,\"#ed7953\"],[0.7777777777777778,\"#fb9f3a\"],[0.8888888888888888,\"#fdca26\"],[1.0,\"#f0f921\"]]}],\"contourcarpet\":[{\"type\":\"contourcarpet\",\"colorbar\":{\"outlinewidth\":0,\"ticks\":\"\"}}],\"contour\":[{\"type\":\"contour\",\"colorbar\":{\"outlinewidth\":0,\"ticks\":\"\"},\"colorscale\":[[0.0,\"#0d0887\"],[0.1111111111111111,\"#46039f\"],[0.2222222222222222,\"#7201a8\"],[0.3333333333333333,\"#9c179e\"],[0.4444444444444444,\"#bd3786\"],[0.5555555555555556,\"#d8576b\"],[0.6666666666666666,\"#ed7953\"],[0.7777777777777778,\"#fb9f3a\"],[0.8888888888888888,\"#fdca26\"],[1.0,\"#f0f921\"]]}],\"surface\":[{\"type\":\"surface\",\"colorbar\":{\"outlinewidth\":0,\"ticks\":\"\"},\"colorscale\":[[0.0,\"#0d0887\"],[0.1111111111111111,\"#46039f\"],[0.2222222222222222,\"#7201a8\"],[0.3333333333333333,\"#9c179e\"],[0.4444444444444444,\"#bd3786\"],[0.5555555555555556,\"#d8576b\"],[0.6666666666666666,\"#ed7953\"],[0.7777777777777778,\"#fb9f3a\"],[0.8888888888888888,\"#fdca26\"],[1.0,\"#f0f921\"]]}],\"mesh3d\":[{\"type\":\"mesh3d\",\"colorbar\":{\"outlinewidth\":0,\"ticks\":\"\"}}],\"scatter\":[{\"fillpattern\":{\"fillmode\":\"overlay\",\"size\":10,\"solidity\":0.2},\"type\":\"scatter\"}],\"parcoords\":[{\"type\":\"parcoords\",\"line\":{\"colorbar\":{\"outlinewidth\":0,\"ticks\":\"\"}}}],\"scatterpolargl\":[{\"type\":\"scatterpolargl\",\"marker\":{\"colorbar\":{\"outlinewidth\":0,\"ticks\":\"\"}}}],\"bar\":[{\"error_x\":{\"color\":\"#2a3f5f\"},\"error_y\":{\"color\":\"#2a3f5f\"},\"marker\":{\"line\":{\"color\":\"#E5ECF6\",\"width\":0.5},\"pattern\":{\"fillmode\":\"overlay\",\"size\":10,\"solidity\":0.2}},\"type\":\"bar\"}],\"scattergeo\":[{\"type\":\"scattergeo\",\"marker\":{\"colorbar\":{\"outlinewidth\":0,\"ticks\":\"\"}}}],\"scatterpolar\":[{\"type\":\"scatterpolar\",\"marker\":{\"colorbar\":{\"outlinewidth\":0,\"ticks\":\"\"}}}],\"histogram\":[{\"marker\":{\"pattern\":{\"fillmode\":\"overlay\",\"size\":10,\"solidity\":0.2}},\"type\":\"histogram\"}],\"scattergl\":[{\"type\":\"scattergl\",\"marker\":{\"colorbar\":{\"outlinewidth\":0,\"ticks\":\"\"}}}],\"scatter3d\":[{\"type\":\"scatter3d\",\"line\":{\"colorbar\":{\"outlinewidth\":0,\"ticks\":\"\"}},\"marker\":{\"colorbar\":{\"outlinewidth\":0,\"ticks\":\"\"}}}],\"scattermapbox\":[{\"type\":\"scattermapbox\",\"marker\":{\"colorbar\":{\"outlinewidth\":0,\"ticks\":\"\"}}}],\"scatterternary\":[{\"type\":\"scatterternary\",\"marker\":{\"colorbar\":{\"outlinewidth\":0,\"ticks\":\"\"}}}],\"scattercarpet\":[{\"type\":\"scattercarpet\",\"marker\":{\"colorbar\":{\"outlinewidth\":0,\"ticks\":\"\"}}}],\"carpet\":[{\"aaxis\":{\"endlinecolor\":\"#2a3f5f\",\"gridcolor\":\"white\",\"linecolor\":\"white\",\"minorgridcolor\":\"white\",\"startlinecolor\":\"#2a3f5f\"},\"baxis\":{\"endlinecolor\":\"#2a3f5f\",\"gridcolor\":\"white\",\"linecolor\":\"white\",\"minorgridcolor\":\"white\",\"startlinecolor\":\"#2a3f5f\"},\"type\":\"carpet\"}],\"table\":[{\"cells\":{\"fill\":{\"color\":\"#EBF0F8\"},\"line\":{\"color\":\"white\"}},\"header\":{\"fill\":{\"color\":\"#C8D4E3\"},\"line\":{\"color\":\"white\"}},\"type\":\"table\"}],\"barpolar\":[{\"marker\":{\"line\":{\"color\":\"#E5ECF6\",\"width\":0.5},\"pattern\":{\"fillmode\":\"overlay\",\"size\":10,\"solidity\":0.2}},\"type\":\"barpolar\"}],\"pie\":[{\"automargin\":true,\"type\":\"pie\"}]},\"layout\":{\"autotypenumbers\":\"strict\",\"colorway\":[\"#636efa\",\"#EF553B\",\"#00cc96\",\"#ab63fa\",\"#FFA15A\",\"#19d3f3\",\"#FF6692\",\"#B6E880\",\"#FF97FF\",\"#FECB52\"],\"font\":{\"color\":\"#2a3f5f\"},\"hovermode\":\"closest\",\"hoverlabel\":{\"align\":\"left\"},\"paper_bgcolor\":\"white\",\"plot_bgcolor\":\"#E5ECF6\",\"polar\":{\"bgcolor\":\"#E5ECF6\",\"angularaxis\":{\"gridcolor\":\"white\",\"linecolor\":\"white\",\"ticks\":\"\"},\"radialaxis\":{\"gridcolor\":\"white\",\"linecolor\":\"white\",\"ticks\":\"\"}},\"ternary\":{\"bgcolor\":\"#E5ECF6\",\"aaxis\":{\"gridcolor\":\"white\",\"linecolor\":\"white\",\"ticks\":\"\"},\"baxis\":{\"gridcolor\":\"white\",\"linecolor\":\"white\",\"ticks\":\"\"},\"caxis\":{\"gridcolor\":\"white\",\"linecolor\":\"white\",\"ticks\":\"\"}},\"coloraxis\":{\"colorbar\":{\"outlinewidth\":0,\"ticks\":\"\"}},\"colorscale\":{\"sequential\":[[0.0,\"#0d0887\"],[0.1111111111111111,\"#46039f\"],[0.2222222222222222,\"#7201a8\"],[0.3333333333333333,\"#9c179e\"],[0.4444444444444444,\"#bd3786\"],[0.5555555555555556,\"#d8576b\"],[0.6666666666666666,\"#ed7953\"],[0.7777777777777778,\"#fb9f3a\"],[0.8888888888888888,\"#fdca26\"],[1.0,\"#f0f921\"]],\"sequentialminus\":[[0.0,\"#0d0887\"],[0.1111111111111111,\"#46039f\"],[0.2222222222222222,\"#7201a8\"],[0.3333333333333333,\"#9c179e\"],[0.4444444444444444,\"#bd3786\"],[0.5555555555555556,\"#d8576b\"],[0.6666666666666666,\"#ed7953\"],[0.7777777777777778,\"#fb9f3a\"],[0.8888888888888888,\"#fdca26\"],[1.0,\"#f0f921\"]],\"diverging\":[[0,\"#8e0152\"],[0.1,\"#c51b7d\"],[0.2,\"#de77ae\"],[0.3,\"#f1b6da\"],[0.4,\"#fde0ef\"],[0.5,\"#f7f7f7\"],[0.6,\"#e6f5d0\"],[0.7,\"#b8e186\"],[0.8,\"#7fbc41\"],[0.9,\"#4d9221\"],[1,\"#276419\"]]},\"xaxis\":{\"gridcolor\":\"white\",\"linecolor\":\"white\",\"ticks\":\"\",\"title\":{\"standoff\":15},\"zerolinecolor\":\"white\",\"automargin\":true,\"zerolinewidth\":2},\"yaxis\":{\"gridcolor\":\"white\",\"linecolor\":\"white\",\"ticks\":\"\",\"title\":{\"standoff\":15},\"zerolinecolor\":\"white\",\"automargin\":true,\"zerolinewidth\":2},\"scene\":{\"xaxis\":{\"backgroundcolor\":\"#E5ECF6\",\"gridcolor\":\"white\",\"linecolor\":\"white\",\"showbackground\":true,\"ticks\":\"\",\"zerolinecolor\":\"white\",\"gridwidth\":2},\"yaxis\":{\"backgroundcolor\":\"#E5ECF6\",\"gridcolor\":\"white\",\"linecolor\":\"white\",\"showbackground\":true,\"ticks\":\"\",\"zerolinecolor\":\"white\",\"gridwidth\":2},\"zaxis\":{\"backgroundcolor\":\"#E5ECF6\",\"gridcolor\":\"white\",\"linecolor\":\"white\",\"showbackground\":true,\"ticks\":\"\",\"zerolinecolor\":\"white\",\"gridwidth\":2}},\"shapedefaults\":{\"line\":{\"color\":\"#2a3f5f\"}},\"annotationdefaults\":{\"arrowcolor\":\"#2a3f5f\",\"arrowhead\":0,\"arrowwidth\":1},\"geo\":{\"bgcolor\":\"white\",\"landcolor\":\"#E5ECF6\",\"subunitcolor\":\"white\",\"showland\":true,\"showlakes\":true,\"lakecolor\":\"white\"},\"title\":{\"x\":0.05},\"mapbox\":{\"style\":\"light\"}}},\"xaxis\":{\"anchor\":\"y\",\"domain\":[0.0,1.0],\"title\":{\"text\":\"PC1\"}},\"yaxis\":{\"anchor\":\"x\",\"domain\":[0.0,1.0],\"title\":{\"text\":\"PC2\"}},\"legend\":{\"tracegroupgap\":0},\"title\":{\"text\":\"UMAP of Potion Embeddings\"},\"height\":1600,\"width\":1600},                        {\"responsive\": true}                    ).then(function(){\n",
              "                            \n",
              "var gd = document.getElementById('c7815e40-2e54-4435-ba3f-a037438a6477');\n",
              "var x = new MutationObserver(function (mutations, observer) {{\n",
              "        var display = window.getComputedStyle(gd).display;\n",
              "        if (!display || display === 'none') {{\n",
              "            console.log([gd, 'removed!']);\n",
              "            Plotly.purge(gd);\n",
              "            observer.disconnect();\n",
              "        }}\n",
              "}});\n",
              "\n",
              "// Listen for the removal of the full notebook cells\n",
              "var notebookContainer = gd.closest('#notebook-container');\n",
              "if (notebookContainer) {{\n",
              "    x.observe(notebookContainer, {childList: true});\n",
              "}}\n",
              "\n",
              "// Listen for the clearing of the current output cell\n",
              "var outputEl = gd.closest('.output');\n",
              "if (outputEl) {{\n",
              "    x.observe(outputEl, {childList: true});\n",
              "}}\n",
              "\n",
              "                        })                };                            </script>        </div>\n",
              "</body>\n",
              "</html>"
            ]
          },
          "metadata": {}
        }
      ]
    },
    {
      "cell_type": "markdown",
      "source": [
        "# 3. Discussion"
      ],
      "metadata": {
        "id": "9c7jBCD0H0wF"
      }
    },
    {
      "cell_type": "markdown",
      "metadata": {
        "id": "GzeJaqugxzzC"
      },
      "source": [
        "These three approaches (PCA, t-SNE, UMAP) have different theoretical fundamentals and should be selected with discretion based on the purpose of the exercise.\n",
        "\n",
        "\n",
        "PCA focuses on capturing global linear relationships, meaning that it best reflects how points relate to the entire dataset, instead of local neighbors. That's why PCA is notably less dispersed than t-SNE and UMAP in the visualizations above.  \n",
        "\n",
        "t-SNE, on the other hand, focuses on preserving local relationships. This means that it is far better at identifying groups and clusters of similar datapoints. However, it does not preserve the distance between these clusters well.  For example, in the above visualization, \"high,\" \"top,\" \"tall\" are clustered together next to the cluster of \"versions\" and \"original.\" The relationship between points within these clusters are clear, but the closeness of the two clusters likely does not tell us about their relationship as groups.\n",
        "\n",
        "Finally UMAP utilizes non-linear dimension reduction to create clusters, which allows it to capture more complex relationships. It also attempts to preserve global structures, which allows for a better understanding of how clusters relate to each other than t-SNE. It can be employed to illuminate more complex (non-linear) relationships and balance local and global fidelity."
      ]
    }
  ],
  "metadata": {
    "language_info": {
      "name": "python"
    },
    "colab": {
      "provenance": [],
      "gpuType": "T4",
      "include_colab_link": true
    },
    "kernelspec": {
      "name": "python3",
      "display_name": "Python 3"
    },
    "accelerator": "GPU"
  },
  "nbformat": 4,
  "nbformat_minor": 0
}